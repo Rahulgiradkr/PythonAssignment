{
 "cells": [
  {
   "cell_type": "code",
   "execution_count": 33,
   "id": "4d68a9fa",
   "metadata": {},
   "outputs": [
    {
     "name": "stdout",
     "output_type": "stream",
     "text": [
      "Enter a fruit to add (or 'done' to finish): apple\n",
      "Enter a fruit to add (or 'done' to finish): mango\n",
      "Enter a fruit to add (or 'done' to finish): guava\n",
      "Enter a fruit to add (or 'done' to finish): done\n",
      "Enter a fruit to remove: guava\n",
      "None\n",
      "\n",
      "None\n"
     ]
    }
   ],
   "source": [
    "import logging\n",
    "\n",
    "logging.basicConfig(level=logging.INFO, format='%(levelname)s:%(message)s')\n",
    "\n",
    "class FruitList:\n",
    "    def __init__(self):\n",
    "        self.fruits = []\n",
    "\n",
    "    def get_user_input(self, prompt):\n",
    "            try:\n",
    "                return input(prompt)\n",
    "            except Exception as e:\n",
    "                logging.error(f\"Error getting user input: {e}\")\n",
    "            return None\n",
    "\n",
    "    def add_fruits(self):\n",
    "        while len(self.fruits) < 7:\n",
    "            fruit = self.get_user_input(\"Enter a fruit to add (or 'done' to finish): \")\n",
    "            if fruit == \"done\":\n",
    "                break\n",
    "            self.add_fruit(fruit)\n",
    "\n",
    "    def add_fruit(self, fruit):\n",
    "        try:\n",
    "            self.fruits.append(fruit)\n",
    "            logging.info(f\"Fruit {fruit} added successfully.\")\n",
    "        except Exception as e:\n",
    "            logging.error(f\"Error adding fruit: {e}\")\n",
    "\n",
    "    def remove_fruit(self):\n",
    "        fruit = self.get_user_input(\"Enter a fruit to remove: \")\n",
    "        try:\n",
    "            self.fruits.remove(fruit)\n",
    "            logging.info(f\"Fruit {fruit} removed successfully.\")\n",
    "        except ValueError:\n",
    "            logging.warning(f\"Fruit {fruit} not found in the list.\")\n",
    "        except Exception as e:\n",
    "            logging.error(f\"Error removing fruit: {e}\")\n",
    "        finally:\n",
    "            logging.info(\"remove_fruit() completed.\")\n",
    "\n",
    "    def print_list(self):\n",
    "        logging.info(f\"Modified list: {self.fruits}\")\n",
    "\n",
    "# Example usage\n",
    "fruit_list = FruitList()\n",
    "fruit_list.add_fruits()  # Allow user to add fruits up to 7\n",
    "print(fruit_list.remove_fruit())\n",
    "print()  # Force output of prompt\n",
    "print(fruit_list.print_list())"
   ]
  },
  {
   "cell_type": "code",
   "execution_count": 2,
   "id": "5976b6de-b95d-4e8e-b852-eb1c632691e4",
   "metadata": {},
   "outputs": [
    {
     "data": {
      "text/plain": [
       "15"
      ]
     },
     "execution_count": 2,
     "metadata": {},
     "output_type": "execute_result"
    }
   ],
   "source": [
    "import logging\n",
    "\n",
    "class NumberList:\n",
    "    def __init__(self, numbers):\n",
    "        self.numbers = numbers\n",
    "\n",
    "    def calculate_sum(self):\n",
    "        try:\n",
    "            sum_of_numbers = sum(self.numbers)\n",
    "            logging.info(f\"The sum of numbers in the list is: {sum_of_numbers}\")\n",
    "            return sum_of_numbers\n",
    "        except Exception as e:\n",
    "            logging.error(f\"Error calculating sum: {e}\")\n",
    "            return None\n",
    "\n",
    "# Example usage\n",
    "numbers = [1, 2, 3, 4, 5]\n",
    "number_list = NumberList(numbers)\n",
    "number_list.calculate_sum()"
   ]
  },
  {
   "cell_type": "code",
   "execution_count": 4,
   "id": "18c8e251-d99a-4424-85d7-8d119bcd9c98",
   "metadata": {},
   "outputs": [
    {
     "data": {
      "text/plain": [
       "[1, 4, 9, 16, 25, 36, 49, 64, 81, 100]"
      ]
     },
     "execution_count": 4,
     "metadata": {},
     "output_type": "execute_result"
    }
   ],
   "source": [
    "import logging\n",
    "\n",
    "class SquareList:\n",
    "    def __init__(self, start, end):\n",
    "        self.start = start\n",
    "        self.end = end\n",
    "\n",
    "    def generate_squares(self):\n",
    "        try:\n",
    "            squares = [number**2 for number in range(self.start, self.end + 1)]\n",
    "            logging.info(f\"Squares list: {squares}\")\n",
    "            return squares\n",
    "        except Exception as e:\n",
    "            logging.error(f\"Error generating squares: {e}\")\n",
    "            return None\n",
    "\n",
    "# Example usage\n",
    "square_list = SquareList(1, 10)\n",
    "square_list.generate_squares()"
   ]
  },
  {
   "cell_type": "code",
   "execution_count": 5,
   "id": "33a7b38d-7016-4a22-9156-956d921aadfb",
   "metadata": {},
   "outputs": [
    {
     "data": {
      "text/plain": [
       "[2, 4, 6, 8, 10]"
      ]
     },
     "execution_count": 5,
     "metadata": {},
     "output_type": "execute_result"
    }
   ],
   "source": [
    "import logging\n",
    "\n",
    "class EvenNumbersList:\n",
    "    def __init__(self, numbers):\n",
    "        self.numbers = numbers\n",
    "\n",
    "    def create_even_numbers_list(self):\n",
    "        try:\n",
    "            even_numbers = [number for number in self.numbers if number % 2 == 0]\n",
    "            logging.info(f\"List of even numbers: {even_numbers}\")\n",
    "            return even_numbers\n",
    "        except Exception as e:\n",
    "            logging.error(f\"Error creating even numbers list: {e}\")\n",
    "            return None\n",
    "\n",
    "# Example usage\n",
    "numbers = [1, 2, 3, 4, 5, 6, 7, 8, 9, 10]\n",
    "even_numbers_list = EvenNumbersList(numbers)\n",
    "even_numbers_list.create_even_numbers_list()"
   ]
  },
  {
   "cell_type": "code",
   "execution_count": 6,
   "id": "cca10063-fd06-4bac-b7c2-dd259439105f",
   "metadata": {},
   "outputs": [
    {
     "data": {
      "text/plain": [
       "[5, 4, 3, 2, 1]"
      ]
     },
     "execution_count": 6,
     "metadata": {},
     "output_type": "execute_result"
    }
   ],
   "source": [
    "import logging\n",
    "\n",
    "class ListReverser:\n",
    "    def __init__(self, lst):\n",
    "        self.lst = lst\n",
    "\n",
    "    def reverse_list(self):\n",
    "        try:\n",
    "            for i in range(len(self.lst) // 2):\n",
    "                self.lst[i], self.lst[-i - 1] = self.lst[-i - 1], self.lst[i]  # Elegant swapping using tuple assignment\n",
    "            logging.info(f\"Reversed list: {self.lst}\")\n",
    "            return self.lst\n",
    "        except Exception as e:\n",
    "            logging.error(f\"Error reversing list: {e}\")\n",
    "            return None\n",
    "\n",
    "# Example usage\n",
    "numbers = [1, 2, 3, 4, 5]\n",
    "list_reverser = ListReverser(numbers)\n",
    "list_reverser.reverse_list()"
   ]
  },
  {
   "cell_type": "code",
   "execution_count": 7,
   "id": "cca5d5dd-5924-4bc4-8bb3-edb0d25fb664",
   "metadata": {},
   "outputs": [
    {
     "data": {
      "text/plain": [
       "['apple', 'banana', 'cherry', 'grape', 'orange']"
      ]
     },
     "execution_count": 7,
     "metadata": {},
     "output_type": "execute_result"
    }
   ],
   "source": [
    "import logging\n",
    "\n",
    "class WordSorter:\n",
    "    def __init__(self, words):\n",
    "        self.words = words\n",
    "\n",
    "    def sort_words(self):\n",
    "        try:\n",
    "            sorted_words = sorted(self.words)  # Leverage the built-in sorted() function\n",
    "            logging.info(f\"Original list: {self.words}\")\n",
    "            logging.info(f\"Sorted list: {sorted_words}\")\n",
    "            return sorted_words\n",
    "        except Exception as e:\n",
    "            logging.error(f\"Error sorting words: {e}\")\n",
    "            return None\n",
    "\n",
    "# Example usage\n",
    "words = [\"apple\", \"banana\", \"cherry\", \"orange\", \"grape\"]\n",
    "word_sorter = WordSorter(words)\n",
    "word_sorter.sort_words()"
   ]
  },
  {
   "cell_type": "code",
   "execution_count": 8,
   "id": "d61b9677-9bf0-4f3d-8de2-249536c220ca",
   "metadata": {},
   "outputs": [
    {
     "data": {
      "text/plain": [
       "[1, 2, 3, 4, 5, 6]"
      ]
     },
     "execution_count": 8,
     "metadata": {},
     "output_type": "execute_result"
    }
   ],
   "source": [
    "import logging\n",
    "\n",
    "class ListMerger:\n",
    "    def __init__(self, lst1, lst2):\n",
    "        self.lst1 = lst1\n",
    "        self.lst2 = lst2\n",
    "\n",
    "    def merge_lists(self):\n",
    "        try:\n",
    "            merged_list = self.lst1.copy()  # Create a copy to avoid modifying the original\n",
    "            merged_list.extend(self.lst2)  # Efficiently append elements from lst2\n",
    "            logging.info(f\"Merged list: {merged_list}\")\n",
    "            return merged_list\n",
    "        except Exception as e:\n",
    "            logging.error(f\"Error merging lists: {e}\")\n",
    "            return None\n",
    "\n",
    "# Example usage\n",
    "numbers1 = [1, 2, 3]\n",
    "numbers2 = [4, 5, 6]\n",
    "list_merger = ListMerger(numbers1, numbers2)\n",
    "list_merger.merge_lists()"
   ]
  },
  {
   "cell_type": "code",
   "execution_count": 9,
   "id": "2850e78e-86c5-465e-b84d-f019d7124a5c",
   "metadata": {},
   "outputs": [
    {
     "data": {
      "text/plain": [
       "['banana', 'orange']"
      ]
     },
     "execution_count": 9,
     "metadata": {},
     "output_type": "execute_result"
    }
   ],
   "source": [
    "import logging\n",
    "\n",
    "class ElementRemover:\n",
    "    def __init__(self, lst, element_to_remove):\n",
    "        self.lst = lst\n",
    "        self.element_to_remove = element_to_remove\n",
    "\n",
    "    def remove_all_occurrences(self):\n",
    "        try:\n",
    "            while self.element_to_remove in self.lst:  # Repeatedly remove until no more occurrences\n",
    "                self.lst.remove(self.element_to_remove)\n",
    "            logging.info(f\"List after removal: {self.lst}\")\n",
    "            return self.lst\n",
    "        except Exception as e:\n",
    "            logging.error(f\"Error removing elements: {e}\")\n",
    "            return None\n",
    "\n",
    "# Example usage\n",
    "fruits = [\"apple\", \"banana\", \"apple\", \"orange\"]\n",
    "element_remover = ElementRemover(fruits, \"apple\")\n",
    "element_remover.remove_all_occurrences()"
   ]
  },
  {
   "cell_type": "code",
   "execution_count": 10,
   "id": "d6935d10-9ada-46a9-96b9-a2ac2a948413",
   "metadata": {},
   "outputs": [
    {
     "data": {
      "text/plain": [
       "{3, 4}"
      ]
     },
     "execution_count": 10,
     "metadata": {},
     "output_type": "execute_result"
    }
   ],
   "source": [
    "import logging\n",
    "\n",
    "class CommonElementFinder:\n",
    "    def __init__(self, lst1, lst2):\n",
    "        self.lst1 = lst1\n",
    "        self.lst2 = lst2\n",
    "\n",
    "    def find_common_elements(self):\n",
    "        try:\n",
    "            common_elements = set(self.lst1).intersection(self.lst2)  # Leverage set operations for efficiency\n",
    "            logging.info(f\"Common elements: {common_elements}\")\n",
    "            return common_elements\n",
    "        except Exception as e:\n",
    "            logging.error(f\"Error finding common elements: {e}\")\n",
    "            return None\n",
    "\n",
    "# Example usage\n",
    "numbers1 = [1, 2, 3, 4, 5]\n",
    "numbers2 = [3, 4, 6, 7]\n",
    "common_finder = CommonElementFinder(numbers1, numbers2)\n",
    "common_finder.find_common_elements()"
   ]
  },
  {
   "cell_type": "code",
   "execution_count": 53,
   "id": "5652983f",
   "metadata": {},
   "outputs": [
    {
     "name": "stderr",
     "output_type": "stream",
     "text": [
      "INFO:root:Starting script\n",
      "INFO:root:First three words: ['hello', 'world', 'how']\n",
      "INFO:root:Last three words: ['are', 'you', 'today']\n"
     ]
    },
    {
     "name": "stdout",
     "output_type": "stream",
     "text": [
      "print_words method is called\n"
     ]
    }
   ],
   "source": [
    "import logging\n",
    "\n",
    "for handler in logging.root.handlers[:]:\n",
    "    logging.root.removeHandler(handler)\n",
    "    logging.basicConfig(level=logging.INFO)  # Set logging level to INFO\n",
    "    logging.info(\"Starting script\")  # Added for debugging\n",
    "    \n",
    "    logger = logging.getLogger('WordPrinterLogger')\n",
    "    logger.setLevel(logging.INFO)\n",
    "    handler = logging.StreamHandler()\n",
    "    formatter = logging.Formatter('%(levelname)s: %(message)s')\n",
    "    handler.setFormatter(formatter)\n",
    "    logger.addHandler(handler)\n",
    "\n",
    "# Then replace logging.info with logger.info in your class\n",
    "\n",
    "\n",
    "class WordPrinter:\n",
    "    def __init__(self, word_list):\n",
    "        self.word_list = word_list\n",
    "\n",
    "    def print_words(self):\n",
    "        print(\"print_words method is called\")  # Added for debugging\n",
    "        try:\n",
    "            first_three = self.word_list[:3]\n",
    "            last_three = self.word_list[-3:]\n",
    "            logging.info(f\"First three words: {first_three}\")\n",
    "            logging.info(f\"Last three words: {last_three}\")\n",
    "        except Exception as e:\n",
    "            logging.error(f\"Error printing words: {e}\")\n",
    "\n",
    "# Example usage\n",
    "words = [\"hello\", \"world\", \"how\", \"are\", \"you\", \"today\"]\n",
    "word_printer = WordPrinter(words)\n",
    "word_printer.print_words()"
   ]
  }
 ],
 "metadata": {
  "kernelspec": {
   "display_name": "Python 3 (ipykernel)",
   "language": "python",
   "name": "python3"
  },
  "language_info": {
   "codemirror_mode": {
    "name": "ipython",
    "version": 3
   },
   "file_extension": ".py",
   "mimetype": "text/x-python",
   "name": "python",
   "nbconvert_exporter": "python",
   "pygments_lexer": "ipython3",
   "version": "3.11.5"
  }
 },
 "nbformat": 4,
 "nbformat_minor": 5
}
