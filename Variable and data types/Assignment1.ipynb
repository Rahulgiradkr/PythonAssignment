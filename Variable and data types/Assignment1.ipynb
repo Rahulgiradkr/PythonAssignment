{
 "cells": [
  {
   "cell_type": "markdown",
   "id": "d1c31b9f",
   "metadata": {},
   "source": [
    "1. Create two variables, a and b, and swap their values without using a temporary\n",
    "variable.\n",
    "2. Ask the user for an integer and convert it to a string. Then, print the data type of the\n",
    "converted variable.\n",
    "3. Make a list of numbers and add a new number to the end of the list. Then, remove\n",
    "the first element and print the modified list usng try and except and logging\n",
    "4. Assume a program that asks the user for their name and age. Then, use string\n",
    "formatting to display a message like \"Hello, [Name]! You are [Age] years old.\"\n",
    "5. Create variables for two numbers and perform addition, subtraction, multiplication,\n",
    "and division operations. Print the results.\n",
    "6. Define a constant variable in Python and try to modify its value. Explain whether it's\n",
    "possible or not.\n",
    "7. Write a program that checks the data type of a variable and prints a message based\n",
    "on whether it's an integer, float, string, or another type using logging and try and except method\n",
    "8. Generate a list of squares of numbers from 1 to 10 using list comprehension using logging and try and except method\n",
    "9. Create a program that attempts to convert a string to an integer. Handle any potential\n",
    "errors and print an error message.using logging and try and except method\n",
    "10. Write a program with variables that follow both the snake_case and CamelCase\n",
    "naming conventions. Print a message explaining the conventions"
   ]
  },
  {
   "cell_type": "code",
   "execution_count": 3,
   "id": "a0ce73a0",
   "metadata": {},
   "outputs": [
    {
     "name": "stdout",
     "output_type": "stream",
     "text": [
      "25\n",
      "65\n",
      "Before swapping: a = 25, b = 65\n",
      "After swapping: a = 65, b = 25\n"
     ]
    }
   ],
   "source": [
    "import logging\n",
    "\n",
    "# Setup logging\n",
    "logging.basicConfig(filename='swap_values.log', level=logging.DEBUG, format='%(asctime)s - %(levelname)s - %(message)s')\n",
    "\n",
    "try:\n",
    "    # Create two variables\n",
    "    a = int(input())\n",
    "    b = int(input())\n",
    "\n",
    "    logging.info(f'Before swapping: a = {a}, b = {b}')\n",
    "    print(f'Before swapping: a = {a}, b = {b}')\n",
    "\n",
    "    # Swap values using arithmetic operations\n",
    "    a = a + b\n",
    "    b = a - b\n",
    "    a = a - b\n",
    "\n",
    "    logging.info(f'After swapping: a = {a}, b = {b}')\n",
    "    print(f'After swapping: a = {a}, b = {b}')\n",
    "\n",
    "except Exception as e:\n",
    "    logging.error(f'Error occurred: {e}')\n",
    "\n"
   ]
  },
  {
   "cell_type": "code",
   "execution_count": 4,
   "id": "5c19d72f",
   "metadata": {},
   "outputs": [
    {
     "name": "stdout",
     "output_type": "stream",
     "text": [
      "Enter an integer: 4\n",
      "The data type of the converted variable is: <class 'str'>\n"
     ]
    }
   ],
   "source": [
    "import logging\n",
    "\n",
    "# Setup logging\n",
    "logging.basicConfig(filename='conversion_log.log', level=logging.DEBUG, format='%(asctime)s - %(levelname)s - %(message)s')\n",
    "\n",
    "try:\n",
    "    # Ask the user for an integer\n",
    "    user_input = input(\"Enter an integer: \")\n",
    "\n",
    "    # Convert the input to a string\n",
    "    converted_string = str(user_input)\n",
    "\n",
    "    # Print the data type of the converted variable\n",
    "    data_type = type(converted_string)\n",
    "    print(f'The data type of the converted variable is: {data_type}')\n",
    "\n",
    "    # Log successful conversion\n",
    "    logging.info(f'Successful conversion: {user_input} -> {converted_string}, Data type: {data_type}')\n",
    "\n",
    "except ValueError as ve:\n",
    "    # Log error for invalid input\n",
    "    logging.error(f'Error converting to string: {ve}')\n",
    "\n",
    "except Exception as e:\n",
    "    # Log other unexpected errors\n",
    "    logging.error(f'Unexpected error occurred: {e}')\n"
   ]
  },
  {
   "cell_type": "code",
   "execution_count": 7,
   "id": "7238c74d",
   "metadata": {},
   "outputs": [
    {
     "name": "stdout",
     "output_type": "stream",
     "text": [
      "[1, 2, 3, 4, 5, 6]\n",
      "List after removing the first element (1): [2, 3, 4, 5, 6]\n"
     ]
    }
   ],
   "source": [
    "import logging\n",
    "\n",
    "# Setup logging\n",
    "logging.basicConfig(filename='list_operations.log', level=logging.DEBUG, format='%(asctime)s - %(levelname)s - %(message)s')\n",
    "\n",
    "try:\n",
    "    # Create a list of numbers\n",
    "    numbers_list = [1, 2, 3, 4, 5]\n",
    "\n",
    "    logging.info(f'Original list: {numbers_list}')\n",
    "\n",
    "    # Add a new number to the end of the list\n",
    "    new_number = 6\n",
    "    numbers_list.append(new_number)\n",
    "    print(numbers_list)\n",
    "\n",
    "    logging.info(f'List after adding {new_number} to the end: {numbers_list}')\n",
    "\n",
    "    # Remove the first element of the list\n",
    "    removed_element = numbers_list.pop(0)\n",
    "\n",
    "    logging.info(f'List after removing the first element ({removed_element}): {numbers_list}')\n",
    "    print(f'List after removing the first element ({removed_element}): {numbers_list}')\n",
    "\n",
    "except IndexError as ie:\n",
    "    # Log error if pop index is out of range\n",
    "    logging.error(f'Error removing the first element: {ie}')\n",
    "\n",
    "except Exception as e:\n",
    "    # Log other unexpected errors\n",
    "    logging.error(f'Unexpected error occurred: {e}')\n"
   ]
  },
  {
   "cell_type": "code",
   "execution_count": 10,
   "id": "078bf52d",
   "metadata": {},
   "outputs": [
    {
     "name": "stdout",
     "output_type": "stream",
     "text": [
      "Enter your NameRahul\n",
      "Enter your age24\n",
      "Hello, Rahul! You are 24 years old.\n"
     ]
    }
   ],
   "source": [
    "logging.basicConfig(filename='name.log', level=logging.DEBUG, format='%(asctime)s - %(levelname)s - %(message)s')\n",
    "\n",
    "try:\n",
    "    # Create two variables\n",
    "    a = input(\"Enter your Name\")\n",
    "    b = int(input(\"Enter your age\"))\n",
    "\n",
    "    logging.info(f'Hello, {a}! You are {b} years old.')\n",
    "    print(f'Hello, {a}! You are {b} years old.')\n",
    "\n",
    "except Exception as e:\n",
    "    logging.error(f'Error occurred: {e}')"
   ]
  },
  {
   "cell_type": "code",
   "execution_count": 16,
   "id": "f8b0318a",
   "metadata": {},
   "outputs": [
    {
     "name": "stdout",
     "output_type": "stream",
     "text": [
      "1\n",
      "0\n",
      "select any operator +,-,*,//\n",
      "division by zero\n"
     ]
    }
   ],
   "source": [
    "import logging\n",
    "\n",
    "# Setup logging\n",
    "logging.basicConfig(filename='operation.log', level=logging.DEBUG, format='%(asctime)s - %(levelname)s - %(message)s')\n",
    "\n",
    "try:\n",
    "    # Create two variables\n",
    "    a = int(input())\n",
    "    b = int(input())\n",
    "    opertor = input(\"select any operator +,-,*,/\")\n",
    "    if opertor == \"+\":\n",
    "        logging.info(f'a+b: {a+b}')\n",
    "        print(f'a+b: {a+b}')\n",
    "    elif opertor == \"-\":\n",
    "        logging.info(f'a-b: {a-b}')\n",
    "        print(f'a-b: {a-b}')\n",
    "    elif opertor == \"*\":\n",
    "        logging.info(f'a*b: {a*b}')\n",
    "        print(f'a*b: {a*b}')\n",
    "    else:\n",
    "        logging.info(f'a/b: {a/b}')\n",
    "        print(f'a*b: {a*b}')\n",
    "\n",
    "except Exception as e:\n",
    "    logging.error(f'Error occurred: {e}')\n",
    "    print(e)"
   ]
  },
  {
   "cell_type": "code",
   "execution_count": 36,
   "id": "bd748cd4",
   "metadata": {},
   "outputs": [
    {
     "name": "stdout",
     "output_type": "stream",
     "text": [
      "3.141592653589793\n",
      "20\n"
     ]
    }
   ],
   "source": [
    "import logging\n",
    "import math\n",
    "\n",
    "A =math.pi\n",
    "print(A)\n",
    "\n",
    "try:\n",
    "    A = 20  \n",
    "    print(A)\n",
    "except TypeError as e:\n",
    "    logging.error(f\"Attempt to modify a constant: {e}\")\n"
   ]
  },
  {
   "cell_type": "markdown",
   "id": "d7e1b1d4",
   "metadata": {},
   "source": [
    "it is possible to change value of constant"
   ]
  },
  {
   "cell_type": "code",
   "execution_count": 28,
   "id": "cdc1cc72",
   "metadata": {},
   "outputs": [
    {
     "name": "stdout",
     "output_type": "stream",
     "text": [
      "Enter a value: [1,2,3]\n",
      "The variable is a List: [1, 2, 3]\n"
     ]
    }
   ],
   "source": [
    "import logging\n",
    "\n",
    "# Get user input\n",
    "user_input = input(\"Enter a value: \")\n",
    "\n",
    "# Use eval() to evaluate the input\n",
    "try:\n",
    "    variable = eval(user_input)\n",
    "except Exception as e:\n",
    "    logging.error(f\"Error evaluating input: {e}\")\n",
    "    exit()\n",
    "\n",
    "def DType(variable):\n",
    "    try:\n",
    "        if isinstance(variable, int):\n",
    "            logging.info(f\"The variable is an integer: {variable}\")\n",
    "            print(f\"The variable is an integer: {variable}\")\n",
    "        elif isinstance(variable, float):\n",
    "            logging.info(f\"The variable is a float: {variable}\")\n",
    "            print(f\"The variable is a float: {variable}\")\n",
    "        elif isinstance(variable, str):\n",
    "            logging.info(f\"The variable is a string: {variable}\")\n",
    "            print(f\"The variable is a string: {variable}\")\n",
    "        elif isinstance(variable, bool):\n",
    "            logging.info(f\"The variable is a boolean: {variable}\")\n",
    "            print(f\"The variable is a boolean: {variable}\")\n",
    "        elif isinstance(variable, list):\n",
    "            logging.info(f\"The variable is a List: {variable}\")\n",
    "            print(f\"The variable is a List: {variable}\")\n",
    "        elif isinstance(variable, tuple):\n",
    "            logging.info(f\"The variable is a tuple: {variable}\")\n",
    "            print(f\"The variable is a tuple: {variable}\")\n",
    "        elif isinstance(variable, dict):\n",
    "            logging.info(f\"The variable is a dictionary: {variable}\")\n",
    "            print(f\"The variable is a dictionary: {variable}\")\n",
    "        else:\n",
    "            logging.info(f\"The variable has another data type: {type(variable).__name__}\")\n",
    "    except Exception as e:\n",
    "        logging.error(f\"Error checking data type: {e}\")\n",
    "\n",
    "DType(variable)\n"
   ]
  },
  {
   "cell_type": "code",
   "execution_count": 32,
   "id": "feab328d",
   "metadata": {},
   "outputs": [
    {
     "name": "stdout",
     "output_type": "stream",
     "text": [
      "Generated list of squares: [1, 4, 9, 16, 25, 36, 49, 64, 81, 100]\n"
     ]
    }
   ],
   "source": [
    "import logging\n",
    "\n",
    "logging.basicConfig(filename='conversion_log.txt', level=logging.ERROR, format='%(asctime)s - %(levelname)s - %(message)s')\n",
    "\n",
    "logging.basicConfig(level=logging.INFO)\n",
    "\n",
    "def square_list():\n",
    "    try:\n",
    "        squares = [x ** 2 for x in range(1, 11)]\n",
    "        logging.info(f\"Generated list of squares: {squares}\")\n",
    "        print(f\"Generated list of squares: {squares}\")\n",
    "        return squares\n",
    "    except Exception as e:\n",
    "        logging.error(f\"Error generating list of squares: {e}\")\n",
    "\n",
    "# Call the function to generate squares\n",
    "result = square_list()\n"
   ]
  },
  {
   "cell_type": "code",
   "execution_count": 41,
   "id": "751fcacc",
   "metadata": {},
   "outputs": [],
   "source": [
    "import logging\n",
    "\n",
    "def main():\n",
    "    \n",
    "    input_string = input(\"Enter a string to convert to an integer: \")\n",
    "    converted_integer = convert_to_integer(input_string)\n",
    "    \n",
    "    if converted_integer is not None:\n",
    "        print(f\"Successfully converted '{input_string}' to an integer: {converted_integer}\")\n",
    "    else:\n",
    "        print(\"Conversion failed. Check the error message in the logs.\")\n",
    "\n",
    "def convert_to_integer(input_str):\n",
    "    try:\n",
    "        result = int(input_str)\n",
    "        return result\n",
    "    except ValueError as ve:\n",
    "        logging.error(f\"Error converting '{input_str}' to an integer: {ve}\")\n",
    "        return None "
   ]
  },
  {
   "cell_type": "code",
   "execution_count": 44,
   "id": "a954c118",
   "metadata": {},
   "outputs": [],
   "source": [
    "import logging\n",
    "\n",
    "if __name__ == \"__main__\":\n",
    "    # Configuring logging\n",
    "    logging.basicConfig(filename='naming_conventions_log.txt', level=logging.ERROR, format='%(asctime)s - %(levelname)s - %(message)s')\n",
    "\n",
    "def demonstrate_naming_conventions():\n",
    "    try:\n",
    "        # Snake case variable\n",
    "        A = input()\n",
    "        if A == snake_case_variable:\n",
    "            snake_case_variable = \"This is a snake case variable.\"\n",
    "            print(\"This is a snake case variable.\")\n",
    "\n",
    "        # Camel case variable\n",
    "        B = input()\n",
    "        if B == camelCaseVariable:\n",
    "            camelCaseVariable  = \"This is a CamelCase variable.\"\n",
    "            print(\"This is a CamelCase variable.\")\n",
    "\n",
    "    except Exception as e:\n",
    "        logging.error(f\"Error occurred: {e}\")\n",
    "        print(\"An error occurred. Check the logs for details.\")\n"
   ]
  },
  {
   "cell_type": "code",
   "execution_count": null,
   "id": "7e63dee9",
   "metadata": {},
   "outputs": [],
   "source": []
  }
 ],
 "metadata": {
  "kernelspec": {
   "display_name": "Python 3 (ipykernel)",
   "language": "python",
   "name": "python3"
  },
  "language_info": {
   "codemirror_mode": {
    "name": "ipython",
    "version": 3
   },
   "file_extension": ".py",
   "mimetype": "text/x-python",
   "name": "python",
   "nbconvert_exporter": "python",
   "pygments_lexer": "ipython3",
   "version": "3.11.5"
  }
 },
 "nbformat": 4,
 "nbformat_minor": 5
}
