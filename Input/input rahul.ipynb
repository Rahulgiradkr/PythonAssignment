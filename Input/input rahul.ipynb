{
 "cells": [
  {
   "cell_type": "markdown",
   "id": "bf5dd620",
   "metadata": {},
   "source": [
    "Input Methods\n",
    "1. Write a program that prints the user to enter their name, age, and city. Then, print out\n",
    "a message that includes this information.\n",
    "2. Create a simple calculator program that takes two numbers and an operation (+, -, *,\n",
    "/) as input from the user and displays the result\n",
    "3. Define a program that asks the user to enter a number and determines whether it's\n",
    "even or odd.\n",
    "4. Make a program that allows the user to convert between Celsius and Fahrenheit\n",
    "temperatures. Ask the user for the temperature value and the scale they are using.\n",
    "5. Write a program that prompts the user to create a password. Check if the password\n",
    "meets certain criteria (e.g., minimum length, containing both letters and numbers).\n",
    "6. Implement a number guessing game where the computer generates a random\n",
    "number, and the user has to guess it. Provide feedback on whether the guess is too\n",
    "high or too low.\n",
    "7. Assume a program that asks the user for their height and weight, then calculates and\n",
    "displays their Body Mass Index.\n",
    "8. Ask the user to enter a positive integer and calculate its factorial (e.g., 5! = 5 x 4 x 3 x\n",
    "2 x 1 = 120).\n",
    "9. Prompt the user to input a string and then display the reverse of that string.\n",
    "10. Find a program that asks the user for a number and generates the first \"n\" numbers\n",
    "in the Fibonacci sequence."
   ]
  },
  {
   "cell_type": "code",
   "execution_count": 3,
   "id": "b862ec82",
   "metadata": {},
   "outputs": [],
   "source": [
    "import logging\n",
    "\n",
    "logging.basicConfig(filename='user_info.log', level=logging.ERROR)\n",
    "\n",
    "def get_info():\n",
    "    try:\n",
    "        name = input(\"Enter your name: \")\n",
    "        age = int(input(\"Enter your age: \"))\n",
    "        city = input(\"Enter your city: \")\n",
    "\n",
    "        # Validate age\n",
    "        if age < 0 or age > 150:\n",
    "            raise ValueError(\"Invalid age\")\n",
    "\n",
    "        return name, age, city\n",
    "\n",
    "    except ValueError as ve:\n",
    "        logging.error(f\"Error: {ve}\")\n",
    "        print(\"Invalid input. Please enter a valid age.\")\n",
    "        return get_user_info()\n",
    "    "
   ]
  },
  {
   "cell_type": "code",
   "execution_count": 4,
   "id": "0b749896",
   "metadata": {},
   "outputs": [
    {
     "name": "stdout",
     "output_type": "stream",
     "text": [
      "Enter your name: Rahul\n",
      "Enter your age: 24\n",
      "Enter your city: city\n"
     ]
    },
    {
     "data": {
      "text/plain": [
       "('Rahul', 24, 'city')"
      ]
     },
     "execution_count": 4,
     "metadata": {},
     "output_type": "execute_result"
    }
   ],
   "source": [
    "get_info()"
   ]
  },
  {
   "cell_type": "code",
   "execution_count": 5,
   "id": "f0515f3d",
   "metadata": {},
   "outputs": [
    {
     "name": "stdout",
     "output_type": "stream",
     "text": [
      "12\n",
      "15\n",
      "select any operator +,-,*,//\n",
      "a*b: 180\n"
     ]
    }
   ],
   "source": [
    "import logging\n",
    "\n",
    "# Setup logging\n",
    "logging.basicConfig(filename='operation1.log', level=logging.DEBUG, format='%(asctime)s - %(levelname)s - %(message)s')\n",
    "\n",
    "try:\n",
    "    # Create two variables\n",
    "    a = int(input())\n",
    "    b = int(input())\n",
    "    opertor = input(\"select any operator +,-,*,/\")\n",
    "    if opertor == \"+\":\n",
    "        logging.info(f'a+b: {a+b}')\n",
    "        print(f'a+b: {a+b}')\n",
    "    elif opertor == \"-\":\n",
    "        logging.info(f'a-b: {a-b}')\n",
    "        print(f'a-b: {a-b}')\n",
    "    elif opertor == \"*\":\n",
    "        logging.info(f'a*b: {a*b}')\n",
    "        print(f'a*b: {a*b}')\n",
    "    else:\n",
    "        logging.info(f'a/b: {a/b}')\n",
    "        print(f'a*b: {a*b}')\n",
    "\n",
    "except Exception as e:\n",
    "    logging.error(f'Error occurred: {e}')\n",
    "    print(e)"
   ]
  },
  {
   "cell_type": "code",
   "execution_count": 10,
   "id": "ab564c96",
   "metadata": {},
   "outputs": [],
   "source": [
    "logging.basicConfig(filename='evenodd.log', level=logging.ERROR)\n",
    "\n",
    "def get_info():\n",
    "    try:\n",
    "        a = int(input())\n",
    "        if a%2==0:\n",
    "            print(\"even\")\n",
    "        else:\n",
    "            print(\"odd\")\n",
    "\n",
    "    except ValueError as ve:\n",
    "        logging.error(f'ValueError occured\"{ve}')\n",
    "        print(e)"
   ]
  },
  {
   "cell_type": "code",
   "execution_count": 13,
   "id": "5a90672e",
   "metadata": {},
   "outputs": [
    {
     "name": "stdout",
     "output_type": "stream",
     "text": [
      "0\n",
      "even\n"
     ]
    }
   ],
   "source": [
    "get_info()"
   ]
  },
  {
   "cell_type": "code",
   "execution_count": 21,
   "id": "d8c1696b",
   "metadata": {},
   "outputs": [
    {
     "name": "stdout",
     "output_type": "stream",
     "text": [
      "enter tempreature value:89\n",
      "Enter the temperature scale (C for Celsius, F for Fahrenheit): F\n",
      "45.0°F is equal to 7.222222222222222°C.\n"
     ]
    }
   ],
   "source": [
    "logging.basicConfig(filename='temperature_converter.log', level=logging.ERROR)\n",
    "\n",
    "def celsius_to_fahrenheit(celsius):\n",
    "    return (celsius * 9/5) + 32\n",
    "\n",
    "def fahrenheit_to_celsius(fahrenheit):\n",
    "    return (fahrenheit - 32) * 5/9\n",
    "\n",
    "def get_temperature_info():\n",
    "    try:\n",
    "        tempreature = float(input(\"enter tempreature value:\"))\n",
    "        scale =  input(\"Enter the temperature scale (C for Celsius, F for Fahrenheit): \").upper()\n",
    "        \n",
    "        if scale not in [\"C\",\"F\"]:\n",
    "            raise Valueerror(\"Invalid input.please enter valid tempreature or celcuis.\")\n",
    "        return temperature,scale\n",
    "    \n",
    "    except ValueError as ve:\n",
    "        logging.error(f\"Error: {ve}\")\n",
    "        print(\"Invalid input. Please enter a valid temperature value and scale.\")\n",
    "        return get_temperature_info()\n",
    "    \n",
    "try:\n",
    "    temperature_info = get_temperature_info()\n",
    "    temperature, scale = temperature_info\n",
    "\n",
    "    if scale == 'C':\n",
    "        converted_temperature = celsius_to_fahrenheit(temperature)\n",
    "        print(f\"{temperature}°C is equal to {converted_temperature}°F.\")\n",
    "    else:\n",
    "        converted_temperature = fahrenheit_to_celsius(temperature)\n",
    "        print(f\"{temperature}°F is equal to {converted_temperature}°C.\")\n",
    "\n",
    "except Exception as e:\n",
    "        logging.exception(f\"Unhandled exception: {e}\")\n",
    "        print(\"An error occurred. Please check the log file for more details.\")\n"
   ]
  },
  {
   "cell_type": "code",
   "execution_count": 26,
   "id": "a33777a1",
   "metadata": {},
   "outputs": [
    {
     "name": "stdout",
     "output_type": "stream",
     "text": [
      "Create your password: Ra12\n",
      "Invalid password: Password should be created of only eight letter only\n",
      "Create your password: Rahul1996\n",
      "Password successfully created!\n"
     ]
    }
   ],
   "source": [
    "import logging\n",
    "logging.basicConfig(filename='password.log', level=logging.ERROR)\n",
    "\n",
    "def is_valid_password(password):\n",
    "    if len(password)<8:\n",
    "        raise ValueError(\"Password should be created of only eight letter only\")\n",
    "    \n",
    "    if not any(char.isalpha() for char in password) or not any (char.isdigit() for char in password):\n",
    "        raise ValueError(\"Password must created Aplhabets and number\")\n",
    "    \n",
    "    return True\n",
    "                         \n",
    "                         \n",
    "def Check_in_Password():\n",
    "    try:\n",
    "        password = input(\"Create your password: \")\n",
    "        is_valid = is_valid_password(password)\n",
    "        return password\n",
    "    except ValueError as ve:\n",
    "        logging.error(f\"Error: {ve}\")\n",
    "        print(f\"Invalid password: {ve}\")\n",
    "        return Check_in_Password()\n",
    "                    \n",
    "try:\n",
    "                         user_password = Check_in_Password()\n",
    "                         print(\"Password successfully created!\")\n",
    "except Exception as e:\n",
    "                         logging.exception(f\"Unhandled exception: {e}\")\n",
    "                         print(\"An error occurred. Please check the log file for more details.\")\n",
    "\n",
    "\n",
    "                         "
   ]
  },
  {
   "cell_type": "code",
   "execution_count": 1,
   "id": "e61ce1fd",
   "metadata": {},
   "outputs": [
    {
     "name": "stdout",
     "output_type": "stream",
     "text": [
      "45\n",
      "Guess the number (between 1 and 100): 45\n",
      "Congratulations! You guessed the number 45 in 1 attempts.\n"
     ]
    }
   ],
   "source": [
    "import random\n",
    "import logging\n",
    "\n",
    "# Set up logging\n",
    "logging.basicConfig(filename='number_guessing.log', level=logging.INFO)\n",
    "\n",
    "def guess_number():\n",
    "    # Generate a random number between 1 and 100\n",
    "    secret_number = random.randint(1, 100)\n",
    "    print(secret_number)\n",
    "\n",
    "    attempts = 0\n",
    "\n",
    "    while True:\n",
    "        try:\n",
    "            # Get user input for the guess\n",
    "            user_guess = int(input(\"Guess the number (between 1 and 100): \"))\n",
    "            attempts += 1\n",
    "\n",
    "            # Check if the guess is correct\n",
    "            if user_guess == secret_number:\n",
    "                print(f\"Congratulations! You guessed the number {secret_number} in {attempts} attempts.\")\n",
    "                logging.info(f\"Correct guess: {user_guess}. Attempts: {attempts}\")\n",
    "                break\n",
    "            elif user_guess < secret_number:\n",
    "                print(\"Too low! Try again.\")\n",
    "                logging.info(f\"Low guess: {user_guess}\")\n",
    "            else:\n",
    "                print(\"Too high! Try again.\")\n",
    "                logging.info(f\"High guess: {user_guess}\")\n",
    "\n",
    "        except ValueError:\n",
    "            print(\"Invalid input. Please enter a valid integer.\")\n",
    "\n",
    "if __name__ == \"__main__\":\n",
    "    guess_number()\n"
   ]
  },
  {
   "cell_type": "code",
   "execution_count": 3,
   "id": "5351ea07",
   "metadata": {},
   "outputs": [
    {
     "name": "stdout",
     "output_type": "stream",
     "text": [
      "Enter your height in meters: 5.2\n",
      "Enter your weight in kilograms: 78\n",
      "Your BMI is: 2.88\n"
     ]
    }
   ],
   "source": [
    "import logging\n",
    "\n",
    "logging.basicConfig(filename='bmi_calculator.log', level=logging.INFO)\n",
    "\n",
    "def calculate_bmi(height, weight):\n",
    "    try:\n",
    "        # Convert height and weight to float\n",
    "        height = float(height)\n",
    "        weight = float(weight)\n",
    "\n",
    "        # Check if height and weight are greater than zero\n",
    "        if height <= 0 or weight <= 0:\n",
    "            raise ValueError(\"Height and weight must be greater than zero.\")\n",
    "\n",
    "        # Calculate BMI\n",
    "        bmi = weight / (height ** 2)\n",
    "\n",
    "        logging.info(f\"Height: {height} meters, Weight: {weight} kg, BMI: {bmi:.2f}\")\n",
    "\n",
    "        return bmi\n",
    "\n",
    "    except ValueError as e:\n",
    "        logging.error(f\"Error: {e}\")\n",
    "        print(f\"Error: {e}\")\n",
    "        return None\n",
    "\n",
    "def get_user_input():\n",
    "    while True:\n",
    "        try:\n",
    "            # Get user input for height and weight\n",
    "            height = input(\"Enter your height in meters: \")\n",
    "            weight = input(\"Enter your weight in kilograms: \")\n",
    "\n",
    "            # Calculate BMI and check for valid inputs\n",
    "            bmi = calculate_bmi(height, weight)\n",
    "            if bmi is not None:\n",
    "                print(f\"Your BMI is: {bmi:.2f}\")\n",
    "                break\n",
    "\n",
    "        except KeyboardInterrupt:\n",
    "            logging.warning(\"User interrupted the program.\")\n",
    "            print(\"User interrupted the program. Exiting.\")\n",
    "            break\n",
    "\n",
    "if __name__ == \"__main__\":\n",
    "    get_user_input()\n"
   ]
  },
  {
   "cell_type": "code",
   "execution_count": 4,
   "id": "c29cc848",
   "metadata": {},
   "outputs": [],
   "source": [
    "import logging\n",
    "\n",
    "# Set up logging\n",
    "logging.basicConfig(filename='factorial_calculator.log', level=logging.INFO)\n",
    "\n",
    "def calculate_factorial(n):\n",
    "    try:\n",
    "        # Convert input to an integer\n",
    "        n = int(n)\n",
    "\n",
    "        # Check if the input is a positive integer\n",
    "        if n < 0:\n",
    "            raise ValueError(\"Please enter a positive integer.\")\n",
    "\n",
    "        # Calculate factorial\n",
    "        factorial_result = 1\n",
    "        for i in range(1, n + 1):\n",
    "            factorial_result *= i\n",
    "\n",
    "        logging.info(f\"Input: {n}, Factorial: {factorial_result}\")\n",
    "\n",
    "        return factorial_result\n",
    "\n",
    "    except ValueError as e:\n",
    "        logging.error(f\"Error: {e}\")\n",
    "        print(f\"Error: {e}\")\n",
    "        return None\n",
    "\n",
    "def get_user_input():\n",
    "    while True:\n",
    "        try:\n",
    "            # Get user input for a positive integer\n",
    "            user_input = input(\"Enter a positive integer to calculate its factorial: \")\n",
    "\n",
    "            # Calculate factorial and check for valid inputs\n",
    "            factorial_result = calculate_factorial(user_input)\n",
    "            if factorial_result is not None:\n",
    "                print(f\"The factorial of {user_input} is: {factorial_result}\")\n",
    "                break\n",
    "\n",
    "        except KeyboardInterrupt:\n",
    "            logging.warning(\"User interrupted the program.\")\n",
    "            print(\"User interrupted the program. Exiting.\")\n",
    "            break"
   ]
  },
  {
   "cell_type": "code",
   "execution_count": 7,
   "id": "e6df5ab6",
   "metadata": {},
   "outputs": [
    {
     "name": "stdout",
     "output_type": "stream",
     "text": [
      "Error: Please enter a positive integer.\n"
     ]
    }
   ],
   "source": [
    "calculate_factorial(-2)"
   ]
  },
  {
   "cell_type": "code",
   "execution_count": 10,
   "id": "f31441d0",
   "metadata": {},
   "outputs": [],
   "source": [
    "import logging\n",
    "\n",
    "logging.basicConfig(filename='reverse.log', level=logging.ERROR)\n",
    "\n",
    "def get_info():\n",
    "    try:\n",
    "        A = input(\"Enter your strings: \")\n",
    "        Reverse = A[::-1]\n",
    "        print(Reverse)\n",
    "\n",
    "    except ValueError as ve:\n",
    "        logging.error(f\"Error: {ve}\")\n",
    "        print(\"Invalid input. Please enter a valid age.\")\n",
    "        return get_info()"
   ]
  },
  {
   "cell_type": "code",
   "execution_count": 11,
   "id": "7faff321",
   "metadata": {},
   "outputs": [
    {
     "name": "stdout",
     "output_type": "stream",
     "text": [
      "Enter your strings: Helllo\n",
      "ollleH\n"
     ]
    }
   ],
   "source": [
    "get_info()"
   ]
  },
  {
   "cell_type": "code",
   "execution_count": 12,
   "id": "5bd9011f",
   "metadata": {},
   "outputs": [],
   "source": [
    "import logging\n",
    "\n",
    "logging.basicConfig(filename='fibonacci_sequence.log', level=logging.INFO)\n",
    "\n",
    "def generate_fibonacci_sequence(n):\n",
    "    try:\n",
    "        # Convert input to an integer\n",
    "        n = int(n)\n",
    "\n",
    "        # Check if the input is a non-negative integer\n",
    "        if n < 0:\n",
    "            raise ValueError(\"Please enter a non-negative integer.\")\n",
    "\n",
    "        # Generate the Fibonacci sequence\n",
    "        fibonacci_sequence = [0, 1]\n",
    "        for i in range(2, n):\n",
    "            fibonacci_sequence.append(fibonacci_sequence[i - 1] + fibonacci_sequence[i - 2])\n",
    "\n",
    "        logging.info(f\"Input: {n}, Fibonacci Sequence: {fibonacci_sequence}\")\n",
    "\n",
    "        return fibonacci_sequence\n",
    "\n",
    "    except ValueError as e:\n",
    "        logging.error(f\"Error: {e}\")\n",
    "        print(f\"Error: {e}\")\n",
    "        return None\n",
    "\n",
    "def get_user_input():\n",
    "    while True:\n",
    "        try:\n",
    "            # Get user input for the number of Fibonacci numbers to generate\n",
    "            user_input = input(\"Enter the number of Fibonacci numbers to generate: \")\n",
    "\n",
    "            # Generate Fibonacci sequence and check for valid inputs\n",
    "            fibonacci_sequence = generate_fibonacci_sequence(user_input)\n",
    "            if fibonacci_sequence is not None:\n",
    "                print(f\"The first {user_input} numbers in the Fibonacci sequence are: {fibonacci_sequence}\")\n",
    "                break\n",
    "\n",
    "        except KeyboardInterrupt:\n",
    "            logging.warning(\"User interrupted the program.\")\n",
    "            print(\"User interrupted the program. Exiting.\")\n",
    "            break"
   ]
  },
  {
   "cell_type": "code",
   "execution_count": 14,
   "id": "457c4a38",
   "metadata": {},
   "outputs": [
    {
     "data": {
      "text/plain": [
       "[0, 1, 1, 2, 3, 5, 8, 13, 21, 34]"
      ]
     },
     "execution_count": 14,
     "metadata": {},
     "output_type": "execute_result"
    }
   ],
   "source": [
    "generate_fibonacci_sequence(10)"
   ]
  }
 ],
 "metadata": {
  "kernelspec": {
   "display_name": "Python 3 (ipykernel)",
   "language": "python",
   "name": "python3"
  },
  "language_info": {
   "codemirror_mode": {
    "name": "ipython",
    "version": 3
   },
   "file_extension": ".py",
   "mimetype": "text/x-python",
   "name": "python",
   "nbconvert_exporter": "python",
   "pygments_lexer": "ipython3",
   "version": "3.11.5"
  }
 },
 "nbformat": 4,
 "nbformat_minor": 5
}
