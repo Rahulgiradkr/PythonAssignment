{
 "cells": [
  {
   "cell_type": "code",
   "execution_count": 3,
   "id": "4015966d-985b-437a-b289-f9d17793ca16",
   "metadata": {},
   "outputs": [
    {
     "name": "stdout",
     "output_type": "stream",
     "text": [
      "Enter the name of a favorite animal (or 'done' to finish): Tiger\n",
      "Enter the name of a favorite animal (or 'done' to finish): lion\n",
      "Enter the name of a favorite animal (or 'done' to finish): dog\n",
      "Enter the name of a favorite animal (or 'done' to finish): monkey\n",
      "Enter the name of a favorite animal (or 'done' to finish): done\n",
      "Your favorite animals are: {'Tiger', 'lion', 'dog', 'monkey'}\n"
     ]
    }
   ],
   "source": [
    "import logging\n",
    "logging.basicConfig(filename='Animalsetcreator.log', level=logging.INFO)\n",
    "\n",
    "class AnimalSetCreator:\n",
    "    def create_animal_set(self):\n",
    "        try:\n",
    "            favorite_animals = set()\n",
    "            while True:\n",
    "                animal = input(\"Enter the name of a favorite animal (or 'done' to finish): \")\n",
    "                if animal == \"done\":\n",
    "                    break\n",
    "                favorite_animals.add(animal)\n",
    "            logging.info(f\"Your favorite animals: {favorite_animals}\")\n",
    "            return favorite_animals\n",
    "        except Exception as e:\n",
    "            logging.error(f\"Error creating animal set: {e}\")\n",
    "            return None\n",
    "\n",
    "# Example usage\n",
    "animal_set_creator = AnimalSetCreator()\n",
    "favorite_animals = animal_set_creator.create_animal_set()\n",
    "\n",
    "# To print the final set\n",
    "print(\"Your favorite animals are:\", favorite_animals)\n"
   ]
  },
  {
   "cell_type": "code",
   "execution_count": 4,
   "id": "c575c33e-f29c-4231-a43f-01387b92c0ac",
   "metadata": {},
   "outputs": [
    {
     "name": "stdout",
     "output_type": "stream",
     "text": [
      "Union: {1, 2, 3, 4, 5, 6, 7, 8}\n",
      "Intersection: {4, 5}\n",
      "Symmetric Difference: {1, 2, 3, 6, 7, 8}\n"
     ]
    }
   ],
   "source": [
    "import logging\n",
    "\n",
    "logging.basicConfig(filename='set_operations.log', level=logging.INFO, format='%(asctime)s:%(levelname)s:%(message)s')\n",
    "\n",
    "class SetOperations:\n",
    "    def __init__(self, set1, set2):\n",
    "        self.set1 = set1\n",
    "        self.set2 = set2\n",
    "\n",
    "    def perform_operations(self):\n",
    "        try:\n",
    "            union = self.set1.union(self.set2)\n",
    "            intersection = self.set1.intersection(self.set2)\n",
    "            symmetric_difference = self.set1.symmetric_difference(self.set2)\n",
    "\n",
    "            logging.info(f\"Union of sets: {union}\")\n",
    "            logging.info(f\"Intersection of sets: {intersection}\")\n",
    "            logging.info(f\"Symmetric difference of sets: {symmetric_difference}\")\n",
    "\n",
    "            return union, intersection, symmetric_difference\n",
    "        except Exception as e:\n",
    "            logging.error(f\"Error in performing set operations: {e}\")\n",
    "            return None, None, None\n",
    "\n",
    "# Example usage\n",
    "set1 = {1, 2, 3, 4, 5}\n",
    "set2 = {4, 5, 6, 7, 8}\n",
    "\n",
    "set_operations = SetOperations(set1, set2)\n",
    "union, intersection, symmetric_difference = set_operations.perform_operations()\n",
    "\n",
    "# Print results\n",
    "print(\"Union:\", union)\n",
    "print(\"Intersection:\", intersection)\n",
    "print(\"Symmetric Difference:\", symmetric_difference)\n"
   ]
  },
  {
   "cell_type": "code",
   "execution_count": 5,
   "id": "d379df56-460d-4218-980a-f1bd515afdcf",
   "metadata": {},
   "outputs": [
    {
     "name": "stdout",
     "output_type": "stream",
     "text": [
      "Enter a city name (or 'done' to finish): NAgpur\n",
      "Enter a city name (or 'done' to finish): kolhapur\n",
      "Enter a city name (or 'done' to finish): solapur\n",
      "Enter a city name (or 'done' to finish): mumbai\n",
      "Enter a city name (or 'done' to finish): shrinagar\n",
      "Enter a city name (or 'done' to finish): jaipur\n",
      "Enter a city name (or 'done' to finish): done\n",
      "Enter the city to check: jaipur\n"
     ]
    }
   ],
   "source": [
    "import logging\n",
    "logging.basicConfig(filename='Citychecker.log', level=logging.INFO)\n",
    "\n",
    "class CityChecker:\n",
    "    def create_city_set(self):\n",
    "        try:\n",
    "            cities = set()\n",
    "            while True:\n",
    "                city = input(\"Enter a city name (or 'done' to finish): \")\n",
    "                if city == \"done\":\n",
    "                    break\n",
    "                cities.add(city.lower())  # Convert to lowercase for case-insensitive comparison\n",
    "            return cities\n",
    "        except Exception as e:\n",
    "            logging.error(f\"Error creating city set: {e}\")\n",
    "            return None\n",
    "\n",
    "    def check_city(self, city_set):\n",
    "        try:\n",
    "            city_to_check = input(\"Enter the city to check: \").lower()  # Convert to lowercase\n",
    "            if city_to_check in city_set:\n",
    "                logging.info(f\"{city_to_check.title()} is in the set of cities.\")\n",
    "            else:\n",
    "                logging.info(f\"{city_to_check.title()} is not in the set of cities.\")\n",
    "        except Exception as e:\n",
    "            logging.error(f\"Error checking city: {e}\")\n",
    "\n",
    "# Example usage\n",
    "city_checker = CityChecker()\n",
    "city_set = city_checker.create_city_set()\n",
    "city_checker.check_city(city_set)"
   ]
  },
  {
   "cell_type": "code",
   "execution_count": 6,
   "id": "73fe8a0a-0ef6-4e09-ab26-cc29461e43c3",
   "metadata": {},
   "outputs": [
    {
     "name": "stdout",
     "output_type": "stream",
     "text": [
      "Enter an element to add to the set (or 'done' to finish): 45\n",
      "Current set: {'45'}\n",
      "Enter an element to add to the set (or 'done' to finish): 40\n",
      "Current set: {'40', '45'}\n",
      "Enter an element to add to the set (or 'done' to finish): 87\n",
      "Current set: {'40', '87', '45'}\n",
      "Enter an element to add to the set (or 'done' to finish): 89\n",
      "Current set: {'40', '87', '45', '89'}\n",
      "Enter an element to add to the set (or 'done' to finish): 77\n",
      "Current set: {'40', '87', '89', '77', '45'}\n",
      "Enter an element to add to the set (or 'done' to finish): 12\n",
      "Current set: {'40', '87', '89', '77', '45', '12'}\n",
      "Enter an element to add to the set (or 'done' to finish): 15\n",
      "Current set: {'40', '15', '87', '89', '77', '45', '12'}\n",
      "Enter an element to add to the set (or 'done' to finish): finish\n",
      "Current set: {'40', '15', '87', '89', '77', '45', '12', 'finish'}\n",
      "Enter an element to add to the set (or 'done' to finish): done\n"
     ]
    }
   ],
   "source": [
    "import logging\n",
    "\n",
    "# Configure logging\n",
    "logging.basicConfig(filename='set_addition.log', level=logging.INFO, format='%(asctime)s:%(levelname)s:%(message)s')\n",
    "\n",
    "class SetAddition:\n",
    "    def __init__(self):\n",
    "        self.set = set()\n",
    "\n",
    "    def add_elements(self):\n",
    "        try:\n",
    "            while True:\n",
    "                element = input(\"Enter an element to add to the set (or 'done' to finish): \")\n",
    "                if element == \"done\":\n",
    "                    break\n",
    "                self.set.add(element)\n",
    "                print(f\"Current set: {self.set}\")\n",
    "                logging.info(f\"Added {element} to set: {self.set}\")\n",
    "        except Exception as e:\n",
    "            logging.error(f\"Error in adding elements to set: {e}\")\n",
    "\n",
    "# Example usage\n",
    "set_addition = SetAddition()\n",
    "set_addition.add_elements()"
   ]
  },
  {
   "cell_type": "code",
   "execution_count": 7,
   "id": "6ec8a27f-49ff-4f0c-a127-f71539ae61cc",
   "metadata": {},
   "outputs": [
    {
     "name": "stdout",
     "output_type": "stream",
     "text": [
      "Current set: {1, 2, 3, 4, 5}\n",
      "Enter a number to remove from the set (or 'done' to finish): 2\n",
      "Current set: {1, 3, 4, 5}\n",
      "Enter a number to remove from the set (or 'done' to finish): done\n",
      "Modified set: {1, 3, 4, 5}\n"
     ]
    }
   ],
   "source": [
    "import logging\n",
    "\n",
    "# Configure logging\n",
    "logging.basicConfig(filename='set_removal.log', level=logging.INFO, format='%(asctime)s:%(levelname)s:%(message)s')\n",
    "\n",
    "class SetRemoval:\n",
    "    def __init__(self, initial_set):\n",
    "        self.set = initial_set\n",
    "\n",
    "    def remove_element(self):\n",
    "        try:\n",
    "            while True:\n",
    "                print(f\"Current set: {self.set}\")\n",
    "                element = input(\"Enter a number to remove from the set (or 'done' to finish): \")\n",
    "                if element == \"done\":\n",
    "                    break\n",
    "                if element.isdigit():\n",
    "                    element = int(element)\n",
    "                    if element in self.set:\n",
    "                        self.set.remove(element)\n",
    "                        logging.info(f\"Removed {element} from set: {self.set}\")\n",
    "                    else:\n",
    "                        print(f\"{element} is not in the set.\")\n",
    "                else:\n",
    "                    print(\"Please enter a valid number.\")\n",
    "        except Exception as e:\n",
    "            logging.error(f\"Error in removing element from set: {e}\")\n",
    "\n",
    "        print(f\"Modified set: {self.set}\")\n",
    "\n",
    "# Example usage\n",
    "initial_set = {1, 2, 3, 4, 5}\n",
    "set_removal = SetRemoval(initial_set)\n",
    "set_removal.remove_element()\n"
   ]
  },
  {
   "cell_type": "code",
   "execution_count": 8,
   "id": "2b42c433-4b86-4833-af2c-2483557155df",
   "metadata": {},
   "outputs": [
    {
     "name": "stdout",
     "output_type": "stream",
     "text": [
      "Enter words for the first set (type 'done' to finish):\n",
      "> how are you\n",
      "> where are you\n",
      "> hello\n",
      "> done\n",
      "Enter words for the second set (type 'done' to finish):\n",
      "> this is me\n",
      "> myself are you\n",
      "> hello\n",
      "> done\n",
      "Words unique to the first set: {'how are you', 'where are you'}\n",
      "Words unique to the second set: {'this is me', 'myself are you'}\n"
     ]
    }
   ],
   "source": [
    "import logging\n",
    "\n",
    "logging.basicConfig(filename='unique_words.log', level=logging.INFO, format='%(asctime)s:%(levelname)s:%(message)s')\n",
    "\n",
    "class UniqueWordsFinder:\n",
    "    def __init__(self):\n",
    "        self.set1 = set()\n",
    "        self.set2 = set()\n",
    "\n",
    "    def get_user_input(self, prompt):\n",
    "        while True:\n",
    "            word = input(prompt)\n",
    "            if word == \"done\":\n",
    "                break\n",
    "            yield word\n",
    "\n",
    "    def populate_sets(self):\n",
    "        try:\n",
    "            print(\"Enter words for the first set (type 'done' to finish):\")\n",
    "            self.set1 = set(self.get_user_input(prompt=\"> \"))\n",
    "\n",
    "            print(\"Enter words for the second set (type 'done' to finish):\")\n",
    "            self.set2 = set(self.get_user_input(prompt=\"> \"))\n",
    "\n",
    "        except Exception as e:\n",
    "            logging.error(f\"Error in populating sets: {e}\")\n",
    "\n",
    "    def find_unique_words(self):\n",
    "        try:\n",
    "            unique_to_set1 = self.set1.difference(self.set2)\n",
    "            unique_to_set2 = self.set2.difference(self.set1)\n",
    "\n",
    "            logging.info(f\"Words unique to first set: {unique_to_set1}\")\n",
    "            logging.info(f\"Words unique to second set: {unique_to_set2}\")\n",
    "\n",
    "            return unique_to_set1, unique_to_set2\n",
    "        except Exception as e:\n",
    "            logging.error(f\"Error in finding unique words: {e}\")\n",
    "            return None, None\n",
    "\n",
    "    def execute(self):\n",
    "        self.populate_sets()\n",
    "        unique_to_set1, unique_to_set2 = self.find_unique_words()\n",
    "\n",
    "        print(f\"Words unique to the first set: {unique_to_set1}\")\n",
    "        print(f\"Words unique to the second set: {unique_to_set2}\")\n",
    "\n",
    "# Example usage\n",
    "unique_words_finder = UniqueWordsFinder()\n",
    "unique_words_finder.execute()"
   ]
  },
  {
   "cell_type": "code",
   "execution_count": 9,
   "id": "1fbbbe4a-78a0-4a19-9d5e-2351c794f328",
   "metadata": {},
   "outputs": [
    {
     "name": "stdout",
     "output_type": "stream",
     "text": [
      "Set 1 is a subset of Set 2.\n"
     ]
    }
   ],
   "source": [
    "import logging\n",
    "\n",
    "# Configure logging\n",
    "logging.basicConfig(filename='subset_check.log', level=logging.INFO, format='%(asctime)s:%(levelname)s:%(message)s')\n",
    "\n",
    "class SubsetChecker:\n",
    "    def __init__(self, set1, set2):\n",
    "        self.set1 = set1\n",
    "        self.set2 = set2\n",
    "\n",
    "    def check_subset(self):\n",
    "        try:\n",
    "            if self.set1.issubset(self.set2):\n",
    "                message = f\"Set 1 is a subset of Set 2.\"\n",
    "            elif self.set2.issubset(self.set1):\n",
    "                message = f\"Set 2 is a subset of Set 1.\"\n",
    "            else:\n",
    "                message = \"Neither set is a subset of the other.\"\n",
    "\n",
    "            logging.info(message)\n",
    "            return message\n",
    "        except Exception as e:\n",
    "            logging.error(f\"Error in checking subset: {e}\")\n",
    "            return \"An error occurred during the subset check.\"\n",
    "\n",
    "# Example usage\n",
    "set1 = {1, 2, 3}\n",
    "set2 = {1, 2, 3, 4, 5}\n",
    "\n",
    "subset_checker = SubsetChecker(set1, set2)\n",
    "result_message = subset_checker.check_subset()\n",
    "\n",
    "print(result_message)"
   ]
  },
  {
   "cell_type": "code",
   "execution_count": 10,
   "id": "5f1b5b1a-ab78-4e27-af7d-8d915f183ea0",
   "metadata": {},
   "outputs": [
    {
     "name": "stdout",
     "output_type": "stream",
     "text": [
      "Updated Set: {1, 2, 3, 4, 5, 6}\n"
     ]
    }
   ],
   "source": [
    "import logging\n",
    "\n",
    "# Configure logging\n",
    "logging.basicConfig(filename='set_update.log', level=logging.INFO, format='%(asctime)s:%(levelname)s:%(message)s')\n",
    "\n",
    "class SetUpdater:\n",
    "    def __init__(self, set1, set2):\n",
    "        self.set1 = set1\n",
    "        self.set2 = set2\n",
    "\n",
    "    def update_set(self):\n",
    "        try:\n",
    "            self.set1.update(self.set2)\n",
    "            logging.info(f\"Updated set after adding elements from set2 to set1: {self.set1}\")\n",
    "            return self.set1\n",
    "        except Exception as e:\n",
    "            logging.error(f\"Error in updating set: {e}\")\n",
    "            return None\n",
    "\n",
    "# Example usage\n",
    "set1 = {1, 2, 3}\n",
    "set2 = {4, 5, 6}\n",
    "\n",
    "set_updater = SetUpdater(set1, set2)\n",
    "updated_set = set_updater.update_set()\n",
    "\n",
    "print(\"Updated Set:\", updated_set)"
   ]
  },
  {
   "cell_type": "code",
   "execution_count": 11,
   "id": "730d7797-a147-4cc4-bafd-717cbcae710d",
   "metadata": {},
   "outputs": [
    {
     "name": "stdout",
     "output_type": "stream",
     "text": [
      "Even Numbers Set: {2, 4, 6, 8, 10}\n"
     ]
    }
   ],
   "source": [
    "import logging\n",
    "\n",
    "# Configure logging\n",
    "logging.basicConfig(filename='even_numbers_set.log', level=logging.INFO, format='%(asctime)s:%(levelname)s:%(message)s')\n",
    "\n",
    "class EvenNumbersSet:\n",
    "    def __init__(self, numbers_set):\n",
    "        self.numbers_set = numbers_set\n",
    "\n",
    "    def create_even_numbers_set(self):\n",
    "        try:\n",
    "            even_numbers_set = {num for num in self.numbers_set if num % 2 == 0}\n",
    "            logging.info(f\"Original set: {self.numbers_set}\")\n",
    "            logging.info(f\"Even numbers set: {even_numbers_set}\")\n",
    "            return even_numbers_set\n",
    "        except Exception as e:\n",
    "            logging.error(f\"Error in creating even numbers set: {e}\")\n",
    "            return None\n",
    "\n",
    "# Example usage\n",
    "numbers_set = {1, 2, 3, 4, 5, 6, 7, 8, 9, 10}\n",
    "even_numbers = EvenNumbersSet(numbers_set)\n",
    "even_numbers_set = even_numbers.create_even_numbers_set()\n",
    "\n",
    "print(\"Even Numbers Set:\", even_numbers_set)"
   ]
  },
  {
   "cell_type": "code",
   "execution_count": 12,
   "id": "bb894061-8a16-4c47-b05f-abcc420d1b0b",
   "metadata": {},
   "outputs": [
    {
     "name": "stdout",
     "output_type": "stream",
     "text": [
      "Bob\n",
      "Alice\n",
      "Charlie\n",
      "Diana\n"
     ]
    }
   ],
   "source": [
    "import logging\n",
    "\n",
    "# Configure logging\n",
    "logging.basicConfig(filename='names_iteration.log', level=logging.INFO, format='%(asctime)s:%(levelname)s:%(message)s')\n",
    "\n",
    "class NamesIterator:\n",
    "    def __init__(self, names_set):\n",
    "        self.names_set = names_set\n",
    "\n",
    "    def print_names(self):\n",
    "        try:\n",
    "            for name in self.names_set:\n",
    "                print(name)\n",
    "                logging.info(f\"Printed name: {name}\")\n",
    "        except Exception as e:\n",
    "            logging.error(f\"Error in printing names: {e}\")\n",
    "\n",
    "# Example usage\n",
    "names_set = {\"Alice\", \"Bob\", \"Charlie\", \"Diana\"}\n",
    "names_iterator = NamesIterator(names_set)\n",
    "names_iterator.print_names()"
   ]
  }
 ],
 "metadata": {
  "kernelspec": {
   "display_name": "Python 3 (ipykernel)",
   "language": "python",
   "name": "python3"
  },
  "language_info": {
   "codemirror_mode": {
    "name": "ipython",
    "version": 3
   },
   "file_extension": ".py",
   "mimetype": "text/x-python",
   "name": "python",
   "nbconvert_exporter": "python",
   "pygments_lexer": "ipython3",
   "version": "3.11.5"
  }
 },
 "nbformat": 4,
 "nbformat_minor": 5
}
