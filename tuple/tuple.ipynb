{
 "cells": [
  {
   "cell_type": "code",
   "execution_count": 1,
   "id": "d1b37ed4-8f0d-4999-b0b0-1f7e5e06ba8b",
   "metadata": {},
   "outputs": [
    {
     "ename": "KeyboardInterrupt",
     "evalue": "Interrupted by user",
     "output_type": "error",
     "traceback": [
      "\u001b[0;31m---------------------------------------------------------------------------\u001b[0m",
      "\u001b[0;31mKeyboardInterrupt\u001b[0m                         Traceback (most recent call last)",
      "Cell \u001b[0;32mIn[1], line 19\u001b[0m\n\u001b[1;32m     17\u001b[0m \u001b[38;5;66;03m# Example usage\u001b[39;00m\n\u001b[1;32m     18\u001b[0m favorite_colors \u001b[38;5;241m=\u001b[39m FavoriteColors()\n\u001b[0;32m---> 19\u001b[0m num_colors \u001b[38;5;241m=\u001b[39m \u001b[38;5;28mint\u001b[39m(\u001b[38;5;28;43minput\u001b[39;49m\u001b[43m(\u001b[49m\u001b[38;5;124;43m\"\u001b[39;49m\u001b[38;5;124;43mHow many favorite colors do you have? \u001b[39;49m\u001b[38;5;124;43m\"\u001b[39;49m\u001b[43m)\u001b[49m)\n\u001b[1;32m     20\u001b[0m \u001b[38;5;28;01mfor\u001b[39;00m i \u001b[38;5;129;01min\u001b[39;00m \u001b[38;5;28mrange\u001b[39m(num_colors):\n\u001b[1;32m     21\u001b[0m     color \u001b[38;5;241m=\u001b[39m \u001b[38;5;28minput\u001b[39m(\u001b[38;5;124mf\u001b[39m\u001b[38;5;124m\"\u001b[39m\u001b[38;5;124mEnter favorite color \u001b[39m\u001b[38;5;132;01m{\u001b[39;00mi\u001b[38;5;241m+\u001b[39m\u001b[38;5;241m1\u001b[39m\u001b[38;5;132;01m}\u001b[39;00m\u001b[38;5;124m: \u001b[39m\u001b[38;5;124m\"\u001b[39m)\n",
      "File \u001b[0;32m/data/user/0/ru.iiec.pydroid3/files/aarch64-linux-android/lib/python3.11/site-packages/ipykernel/kernelbase.py:1262\u001b[0m, in \u001b[0;36mKernel.raw_input\u001b[0;34m(self, prompt)\u001b[0m\n\u001b[1;32m   1260\u001b[0m     msg \u001b[38;5;241m=\u001b[39m \u001b[38;5;124m\"\u001b[39m\u001b[38;5;124mraw_input was called, but this frontend does not support input requests.\u001b[39m\u001b[38;5;124m\"\u001b[39m\n\u001b[1;32m   1261\u001b[0m     \u001b[38;5;28;01mraise\u001b[39;00m StdinNotImplementedError(msg)\n\u001b[0;32m-> 1262\u001b[0m \u001b[38;5;28;01mreturn\u001b[39;00m \u001b[38;5;28;43mself\u001b[39;49m\u001b[38;5;241;43m.\u001b[39;49m\u001b[43m_input_request\u001b[49m\u001b[43m(\u001b[49m\n\u001b[1;32m   1263\u001b[0m \u001b[43m    \u001b[49m\u001b[38;5;28;43mstr\u001b[39;49m\u001b[43m(\u001b[49m\u001b[43mprompt\u001b[49m\u001b[43m)\u001b[49m\u001b[43m,\u001b[49m\n\u001b[1;32m   1264\u001b[0m \u001b[43m    \u001b[49m\u001b[38;5;28;43mself\u001b[39;49m\u001b[38;5;241;43m.\u001b[39;49m\u001b[43m_parent_ident\u001b[49m\u001b[43m[\u001b[49m\u001b[38;5;124;43m\"\u001b[39;49m\u001b[38;5;124;43mshell\u001b[39;49m\u001b[38;5;124;43m\"\u001b[39;49m\u001b[43m]\u001b[49m\u001b[43m,\u001b[49m\n\u001b[1;32m   1265\u001b[0m \u001b[43m    \u001b[49m\u001b[38;5;28;43mself\u001b[39;49m\u001b[38;5;241;43m.\u001b[39;49m\u001b[43mget_parent\u001b[49m\u001b[43m(\u001b[49m\u001b[38;5;124;43m\"\u001b[39;49m\u001b[38;5;124;43mshell\u001b[39;49m\u001b[38;5;124;43m\"\u001b[39;49m\u001b[43m)\u001b[49m\u001b[43m,\u001b[49m\n\u001b[1;32m   1266\u001b[0m \u001b[43m    \u001b[49m\u001b[43mpassword\u001b[49m\u001b[38;5;241;43m=\u001b[39;49m\u001b[38;5;28;43;01mFalse\u001b[39;49;00m\u001b[43m,\u001b[49m\n\u001b[1;32m   1267\u001b[0m \u001b[43m\u001b[49m\u001b[43m)\u001b[49m\n",
      "File \u001b[0;32m/data/user/0/ru.iiec.pydroid3/files/aarch64-linux-android/lib/python3.11/site-packages/ipykernel/kernelbase.py:1305\u001b[0m, in \u001b[0;36mKernel._input_request\u001b[0;34m(self, prompt, ident, parent, password)\u001b[0m\n\u001b[1;32m   1302\u001b[0m \u001b[38;5;28;01mexcept\u001b[39;00m \u001b[38;5;167;01mKeyboardInterrupt\u001b[39;00m:\n\u001b[1;32m   1303\u001b[0m     \u001b[38;5;66;03m# re-raise KeyboardInterrupt, to truncate traceback\u001b[39;00m\n\u001b[1;32m   1304\u001b[0m     msg \u001b[38;5;241m=\u001b[39m \u001b[38;5;124m\"\u001b[39m\u001b[38;5;124mInterrupted by user\u001b[39m\u001b[38;5;124m\"\u001b[39m\n\u001b[0;32m-> 1305\u001b[0m     \u001b[38;5;28;01mraise\u001b[39;00m \u001b[38;5;167;01mKeyboardInterrupt\u001b[39;00m(msg) \u001b[38;5;28;01mfrom\u001b[39;00m \u001b[38;5;28;01mNone\u001b[39;00m\n\u001b[1;32m   1306\u001b[0m \u001b[38;5;28;01mexcept\u001b[39;00m \u001b[38;5;167;01mException\u001b[39;00m:\n\u001b[1;32m   1307\u001b[0m     \u001b[38;5;28mself\u001b[39m\u001b[38;5;241m.\u001b[39mlog\u001b[38;5;241m.\u001b[39mwarning(\u001b[38;5;124m\"\u001b[39m\u001b[38;5;124mInvalid Message:\u001b[39m\u001b[38;5;124m\"\u001b[39m, exc_info\u001b[38;5;241m=\u001b[39m\u001b[38;5;28;01mTrue\u001b[39;00m)\n",
      "\u001b[0;31mKeyboardInterrupt\u001b[0m: Interrupted by user"
     ]
    }
   ],
   "source": [
    "import logging\n",
    "\n",
    "class FavoriteColors:\n",
    "    def __init__(self):\n",
    "        self.colors = []\n",
    "\n",
    "    def add_color(self, color):\n",
    "        try:\n",
    "            self.colors.append(color)\n",
    "            logging.info(f\"Added '{color}' to favorite colors.\")\n",
    "        except Exception as e:\n",
    "            logging.error(f\"Error adding color: {e}\")\n",
    "\n",
    "    def get_colors(self):\n",
    "        return tuple(self.colors)\n",
    "\n",
    "# Example usage\n",
    "favorite_colors = FavoriteColors()\n",
    "num_colors = int(input(\"How many favorite colors do you have? \"))\n",
    "for i in range(num_colors):\n",
    "    color = input(f\"Enter favorite color {i+1}: \")\n",
    "    favorite_colors.add_color(color)\n",
    "\n",
    "print(f\"Favorite colors: {favorite_colors.get_colors()}\")"
   ]
  },
  {
   "cell_type": "code",
   "execution_count": null,
   "id": "30fdc32d-284d-423b-9b88-e789e98ea8c9",
   "metadata": {},
   "outputs": [],
   "source": [
    "hello\n"
   ]
  },
  {
   "cell_type": "code",
   "execution_count": 2,
   "id": "14d01fcd-fd14-4cfa-985e-27f34b4ba302",
   "metadata": {},
   "outputs": [
    {
     "ename": "KeyboardInterrupt",
     "evalue": "Interrupted by user",
     "output_type": "error",
     "traceback": [
      "\u001b[0;31m---------------------------------------------------------------------------\u001b[0m",
      "\u001b[0;31mKeyboardInterrupt\u001b[0m                         Traceback (most recent call last)",
      "Cell \u001b[0;32mIn[2], line 17\u001b[0m\n\u001b[1;32m     14\u001b[0m             \u001b[38;5;28;01mreturn\u001b[39;00m \u001b[38;5;28;01mNone\u001b[39;00m \n\u001b[1;32m     16\u001b[0m day_finder \u001b[38;5;241m=\u001b[39m DayFinder()\n\u001b[0;32m---> 17\u001b[0m day_number \u001b[38;5;241m=\u001b[39m \u001b[38;5;28mint\u001b[39m(\u001b[38;5;28;43minput\u001b[39;49m\u001b[43m(\u001b[49m\u001b[38;5;124;43m\"\u001b[39;49m\u001b[38;5;124;43mEnter a day number (1-7): \u001b[39;49m\u001b[38;5;124;43m\"\u001b[39;49m\u001b[43m)\u001b[49m)\n\u001b[1;32m     18\u001b[0m day \u001b[38;5;241m=\u001b[39m day_finder\u001b[38;5;241m.\u001b[39mfind_day(day_number)\n\u001b[1;32m     20\u001b[0m \u001b[38;5;28;01mif\u001b[39;00m day:\n",
      "File \u001b[0;32m/data/user/0/ru.iiec.pydroid3/files/aarch64-linux-android/lib/python3.11/site-packages/ipykernel/kernelbase.py:1262\u001b[0m, in \u001b[0;36mKernel.raw_input\u001b[0;34m(self, prompt)\u001b[0m\n\u001b[1;32m   1260\u001b[0m     msg \u001b[38;5;241m=\u001b[39m \u001b[38;5;124m\"\u001b[39m\u001b[38;5;124mraw_input was called, but this frontend does not support input requests.\u001b[39m\u001b[38;5;124m\"\u001b[39m\n\u001b[1;32m   1261\u001b[0m     \u001b[38;5;28;01mraise\u001b[39;00m StdinNotImplementedError(msg)\n\u001b[0;32m-> 1262\u001b[0m \u001b[38;5;28;01mreturn\u001b[39;00m \u001b[38;5;28;43mself\u001b[39;49m\u001b[38;5;241;43m.\u001b[39;49m\u001b[43m_input_request\u001b[49m\u001b[43m(\u001b[49m\n\u001b[1;32m   1263\u001b[0m \u001b[43m    \u001b[49m\u001b[38;5;28;43mstr\u001b[39;49m\u001b[43m(\u001b[49m\u001b[43mprompt\u001b[49m\u001b[43m)\u001b[49m\u001b[43m,\u001b[49m\n\u001b[1;32m   1264\u001b[0m \u001b[43m    \u001b[49m\u001b[38;5;28;43mself\u001b[39;49m\u001b[38;5;241;43m.\u001b[39;49m\u001b[43m_parent_ident\u001b[49m\u001b[43m[\u001b[49m\u001b[38;5;124;43m\"\u001b[39;49m\u001b[38;5;124;43mshell\u001b[39;49m\u001b[38;5;124;43m\"\u001b[39;49m\u001b[43m]\u001b[49m\u001b[43m,\u001b[49m\n\u001b[1;32m   1265\u001b[0m \u001b[43m    \u001b[49m\u001b[38;5;28;43mself\u001b[39;49m\u001b[38;5;241;43m.\u001b[39;49m\u001b[43mget_parent\u001b[49m\u001b[43m(\u001b[49m\u001b[38;5;124;43m\"\u001b[39;49m\u001b[38;5;124;43mshell\u001b[39;49m\u001b[38;5;124;43m\"\u001b[39;49m\u001b[43m)\u001b[49m\u001b[43m,\u001b[49m\n\u001b[1;32m   1266\u001b[0m \u001b[43m    \u001b[49m\u001b[43mpassword\u001b[49m\u001b[38;5;241;43m=\u001b[39;49m\u001b[38;5;28;43;01mFalse\u001b[39;49;00m\u001b[43m,\u001b[49m\n\u001b[1;32m   1267\u001b[0m \u001b[43m\u001b[49m\u001b[43m)\u001b[49m\n",
      "File \u001b[0;32m/data/user/0/ru.iiec.pydroid3/files/aarch64-linux-android/lib/python3.11/site-packages/ipykernel/kernelbase.py:1305\u001b[0m, in \u001b[0;36mKernel._input_request\u001b[0;34m(self, prompt, ident, parent, password)\u001b[0m\n\u001b[1;32m   1302\u001b[0m \u001b[38;5;28;01mexcept\u001b[39;00m \u001b[38;5;167;01mKeyboardInterrupt\u001b[39;00m:\n\u001b[1;32m   1303\u001b[0m     \u001b[38;5;66;03m# re-raise KeyboardInterrupt, to truncate traceback\u001b[39;00m\n\u001b[1;32m   1304\u001b[0m     msg \u001b[38;5;241m=\u001b[39m \u001b[38;5;124m\"\u001b[39m\u001b[38;5;124mInterrupted by user\u001b[39m\u001b[38;5;124m\"\u001b[39m\n\u001b[0;32m-> 1305\u001b[0m     \u001b[38;5;28;01mraise\u001b[39;00m \u001b[38;5;167;01mKeyboardInterrupt\u001b[39;00m(msg) \u001b[38;5;28;01mfrom\u001b[39;00m \u001b[38;5;28;01mNone\u001b[39;00m\n\u001b[1;32m   1306\u001b[0m \u001b[38;5;28;01mexcept\u001b[39;00m \u001b[38;5;167;01mException\u001b[39;00m:\n\u001b[1;32m   1307\u001b[0m     \u001b[38;5;28mself\u001b[39m\u001b[38;5;241m.\u001b[39mlog\u001b[38;5;241m.\u001b[39mwarning(\u001b[38;5;124m\"\u001b[39m\u001b[38;5;124mInvalid Message:\u001b[39m\u001b[38;5;124m\"\u001b[39m, exc_info\u001b[38;5;241m=\u001b[39m\u001b[38;5;28;01mTrue\u001b[39;00m)\n",
      "\u001b[0;31mKeyboardInterrupt\u001b[0m: Interrupted by user"
     ]
    }
   ],
   "source": [
    "import logging\n",
    "class DayFinder:\n",
    "    def __init__(self):\n",
    "        self.days = (\"Monday\", \"Tuesday\", \"Wednesday\", \"Thursday\", \"Friday\", \"Saturday\", \"Sunday\")\n",
    "\n",
    "    def find_day(self, day_number):\n",
    "        try:\n",
    "            if 1 <= day_number <= 7:\n",
    "                return self.days[day_number - 1]\n",
    "            else:\n",
    "                raise ValueError(\"Invalid day number.\")\n",
    "        except Exception as e:\n",
    "            logging.error(f\"Error finding day: {e}\")\n",
    "            return None \n",
    "\n",
    "day_finder = DayFinder()\n",
    "day_number = int(input(\"Enter a day number (1-7): \"))\n",
    "day = day_finder.find_day(day_number)\n",
    "\n",
    "if day:\n",
    "    print(f\"Day {day_number} is {day}.\")\n",
    "else:\n",
    "    print(\"Invalid day number.\")"
   ]
  },
  {
   "cell_type": "code",
   "execution_count": 3,
   "id": "1fd291dd-c838-4850-9c9c-e8e2fc952cb4",
   "metadata": {},
   "outputs": [],
   "source": [
    "import logging\n",
    "\n",
    "class CoordinateUnpacker:\n",
    "    def __init__(self, coordinates):\n",
    "        self.coordinates = coordinates\n",
    "\n",
    "    def unpack_coordinates(self):\n",
    "        try:\n",
    "            x, y = self.coordinates  # Unpack directly into variables\n",
    "            logging.info(f\"x: {x}, y: {y}\")\n",
    "        except Exception as e:\n",
    "            logging.error(f\"Error unpacking coordinates: {e}\")\n",
    "\n",
    "# Example usage\n",
    "coordinates = (5, 10)\n",
    "coord_unpacker = CoordinateUnpacker(coordinates)\n",
    "coord_unpacker.unpack_coordinates()"
   ]
  },
  {
   "cell_type": "code",
   "execution_count": 4,
   "id": "185596c7-383a-458b-bdff-4bcc286e551b",
   "metadata": {},
   "outputs": [],
   "source": [
    "import logging\n",
    "\n",
    "class TupleConcatenator:\n",
    "    def __init__(self, tup1, tup2):\n",
    "        self.tup1 = tup1\n",
    "        self.tup2 = tup2\n",
    "\n",
    "    def concatenate_tuples(self):\n",
    "        try:\n",
    "            concatenated_tuple = self.tup1 + self.tup2  # Use the + operator for concatenation\n",
    "            logging.info(f\"Concatenated tuple: {concatenated_tuple}\")\n",
    "        except Exception as e:\n",
    "            logging.error(f\"Error concatenating tuples: {e}\")\n",
    "\n",
    "# Example usage\n",
    "tup1 = (1, 2, 3)\n",
    "tup2 = (4, 5, 6)\n",
    "tuple_concatenator = TupleConcatenator(tup1, tup2)\n",
    "tuple_concatenator.concatenate_tuples()"
   ]
  },
  {
   "cell_type": "code",
   "execution_count": 5,
   "id": "6f9a6095-5ee8-4b89-95c5-d0c7f1ed3d51",
   "metadata": {},
   "outputs": [],
   "source": [
    "import logging\n",
    "\n",
    "class SubTupleExtractor:\n",
    "    def __init__(self, tup):\n",
    "        self.tup = tup\n",
    "\n",
    "    def extract_sub_tuple(self):\n",
    "        try:\n",
    "            middle_index = len(self.tup) // 2\n",
    "            sub_tuple = self.tup[middle_index - 1: middle_index + 2]  # Extract middle three elements\n",
    "            logging.info(f\"Sub-tuple: {sub_tuple}\")\n",
    "        except Exception as e:\n",
    "            logging.error(f\"Error extracting sub-tuple: {e}\")\n",
    "\n",
    "# Example usage\n",
    "numbers = (10, 20, 30, 40, 50)\n",
    "sub_tuple_extractor = SubTupleExtractor(numbers)\n",
    "sub_tuple_extractor.extract_sub_tuple()"
   ]
  },
  {
   "cell_type": "code",
   "execution_count": 6,
   "id": "5e37870d-6b62-463c-bfe7-e9237ddd50a0",
   "metadata": {},
   "outputs": [
    {
     "name": "stderr",
     "output_type": "stream",
     "text": [
      "ERROR:root:Error modifying tuple: 'tuple' object does not support item assignment\n"
     ]
    }
   ],
   "source": [
    "import logging\n",
    "\n",
    "class TupleImmutabilityDemonstrator:\n",
    "    def __init__(self, tup):\n",
    "        self.tup = tup\n",
    "\n",
    "    def modify_tuple(self):\n",
    "        try:\n",
    "            self.tup[0] = \"new_value\"  # Attempt to modify an element\n",
    "            logging.info(\"Tuple modified successfully.\")  # This line won't execute\n",
    "        except TypeError as e:\n",
    "            logging.error(f\"Error modifying tuple: {e}\")\n",
    "            logging.info(f\"Explanation: Tuples are immutable, meaning their elements cannot be changed after creation.\")\n",
    "\n",
    "# Example usage\n",
    "my_tuple = (1, 2, 3)\n",
    "demonstrator = TupleImmutabilityDemonstrator(my_tuple)\n",
    "demonstrator.modify_tuple()"
   ]
  },
  {
   "cell_type": "code",
   "execution_count": 7,
   "id": "f78bfc2f-cef8-401b-88c7-36d9ef5ceafb",
   "metadata": {},
   "outputs": [],
   "source": [
    " import logging\n",
    "\n",
    "class ElementFinder:\n",
    "    def __init__(self, tup):\n",
    "        self.tup = tup\n",
    "\n",
    "    def count_and_find_element(self, element):\n",
    "        try:\n",
    "            count = self.tup.count(element)  # Count occurrences\n",
    "            position = self.tup.index(element)  # Find first occurrence\n",
    "            logging.info(f\"Element '{element}' appears {count} times.\")\n",
    "            logging.info(f\"First occurrence of '{element}' is at index {position}.\")\n",
    "        except ValueError as e:\n",
    "            logging.error(f\"Element '{element}' not found in tuple.\")\n",
    "\n",
    "# Example usage\n",
    "mixed_tuple = (1, \"hello\", 3.14, \"hello\", True)\n",
    "element_finder = ElementFinder(mixed_tuple)\n",
    "element_finder.count_and_find_element(\"hello\")"
   ]
  },
  {
   "cell_type": "code",
   "execution_count": 8,
   "id": "7f7f36d4-393b-4a02-a4b2-86e80553b5c6",
   "metadata": {},
   "outputs": [],
   "source": [
    "import logging\n",
    "\n",
    "class TupleComparator:\n",
    "    def compare_tuples(self, tuple1, tuple2):\n",
    "        try:\n",
    "            if tuple1 == tuple2:\n",
    "                logging.info(\"Tuples are equal.\")\n",
    "            elif tuple1 > tuple2:\n",
    "                logging.info(\"Tuple 1 is greater than tuple 2.\")\n",
    "            else:\n",
    "                logging.info(\"Tuple 2 is greater than tuple 1.\")\n",
    "        except Exception:\n",
    "            logging.error(\"Error comparing tuples. Check data types and lengths.\")\n",
    "\n",
    "# Example usage\n",
    "comparator = TupleComparator()\n",
    "numbers1 = (1, 2, 3)\n",
    "numbers2 = (3, 2, 1)\n",
    "comparator.compare_tuples(numbers1, numbers2)  # Output: Tuple 2 is greater than tuple 1."
   ]
  },
  {
   "cell_type": "code",
   "execution_count": 9,
   "id": "2bcb3b21-4c54-4ecc-8d8f-634caa28308b",
   "metadata": {},
   "outputs": [
    {
     "name": "stdout",
     "output_type": "stream",
     "text": [
      "Collected arguments as tuple: (1, 'hello', 3.14)\n"
     ]
    }
   ],
   "source": [
    "import logging\n",
    "\n",
    "class DataProcessor:\n",
    "    def collect_arguments(self, *args):\n",
    "        \"\"\"Collects and returns a tuple of arguments.\"\"\"\n",
    "        try:\n",
    "            logging.info(f\"Collected arguments: {args}\")\n",
    "            return tuple(args)\n",
    "        except Exception as e:\n",
    "            logging.error(f\"Error collecting arguments: {e}\")\n",
    "            return None\n",
    "\n",
    "# Example usage\n",
    "arguments = DataProcessor().collect_arguments(1, \"hello\", 3.14)\n",
    "print(f\"Collected arguments as tuple: {arguments}\")"
   ]
  },
  {
   "cell_type": "code",
   "execution_count": null,
   "id": "826d77a5-63aa-41a4-98ea-aab5040fc13c",
   "metadata": {},
   "outputs": [],
   "source": []
  }
 ],
 "metadata": {
  "kernelspec": {
   "display_name": "Python 3 (ipykernel)",
   "language": "python",
   "name": "python3"
  },
  "language_info": {
   "codemirror_mode": {
    "name": "ipython",
    "version": 3
   },
   "file_extension": ".py",
   "mimetype": "text/x-python",
   "name": "python",
   "nbconvert_exporter": "python",
   "pygments_lexer": "ipython3",
   "version": "3.11.4"
  }
 },
 "nbformat": 4,
 "nbformat_minor": 5
}
