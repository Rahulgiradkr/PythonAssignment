{
 "cells": [
  {
   "cell_type": "code",
   "execution_count": 1,
   "id": "81993263",
   "metadata": {},
   "outputs": [
    {
     "name": "stdout",
     "output_type": "stream",
     "text": [
      "Requirement already satisfied: pandas in c:\\users\\parag\\anaconda3\\lib\\site-packages (2.0.3)\n",
      "Requirement already satisfied: python-dateutil>=2.8.2 in c:\\users\\parag\\anaconda3\\lib\\site-packages (from pandas) (2.8.2)\n",
      "Requirement already satisfied: pytz>=2020.1 in c:\\users\\parag\\anaconda3\\lib\\site-packages (from pandas) (2023.3.post1)\n",
      "Requirement already satisfied: tzdata>=2022.1 in c:\\users\\parag\\anaconda3\\lib\\site-packages (from pandas) (2023.3)\n",
      "Requirement already satisfied: numpy>=1.21.0 in c:\\users\\parag\\anaconda3\\lib\\site-packages (from pandas) (1.24.3)\n",
      "Requirement already satisfied: six>=1.5 in c:\\users\\parag\\anaconda3\\lib\\site-packages (from python-dateutil>=2.8.2->pandas) (1.16.0)\n"
     ]
    }
   ],
   "source": [
    "! pip install pandas"
   ]
  },
  {
   "cell_type": "code",
   "execution_count": 2,
   "id": "c9af776f",
   "metadata": {},
   "outputs": [],
   "source": [
    "import pandas as pd "
   ]
  },
  {
   "cell_type": "code",
   "execution_count": 18,
   "id": "5289d968",
   "metadata": {},
   "outputs": [
    {
     "name": "stdout",
     "output_type": "stream",
     "text": [
      "Students Records\n",
      "\n",
      "   students  Ranks  marks\n",
      "0     amit      1     95\n",
      "1    rahul      3     90\n",
      "2     john      2     94\n",
      "3    Steve      4     89\n",
      "4   abdul       5     88\n"
     ]
    }
   ],
   "source": [
    "data = {\n",
    "    'students': [\"amit\" ,\"rahul\",\"john\",\"Steve\",\"abdul \"],\n",
    "    'Ranks' : [ 1, 3, 2, 4 , 5 ],\n",
    "    'marks' : [ 95, 90, 94, 89,88]}\n",
    "    \n",
    "res= pd.DataFrame(data)\n",
    "\n",
    "\n",
    "print(\"Students Records\\n\\n\",res)"
   ]
  },
  {
   "cell_type": "code",
   "execution_count": 22,
   "id": "c00b21b3",
   "metadata": {},
   "outputs": [
    {
     "ename": "AttributeError",
     "evalue": "module 'pandas' has no attribute 'Dataframe'",
     "output_type": "error",
     "traceback": [
      "\u001b[1;31m---------------------------------------------------------------------------\u001b[0m",
      "\u001b[1;31mAttributeError\u001b[0m                            Traceback (most recent call last)",
      "Cell \u001b[1;32mIn[22], line 7\u001b[0m\n\u001b[0;32m      1\u001b[0m data\u001b[38;5;241m=\u001b[39m{\n\u001b[0;32m      2\u001b[0m     \u001b[38;5;124m'\u001b[39m\u001b[38;5;124mname\u001b[39m\u001b[38;5;124m'\u001b[39m:[ \u001b[38;5;124m\"\u001b[39m\u001b[38;5;124mpriya\u001b[39m\u001b[38;5;124m\"\u001b[39m,\u001b[38;5;124m\"\u001b[39m\u001b[38;5;124mRiya\u001b[39m\u001b[38;5;124m\"\u001b[39m,\u001b[38;5;124m\"\u001b[39m\u001b[38;5;124mVarsha\u001b[39m\u001b[38;5;124m\"\u001b[39m,\u001b[38;5;124m\"\u001b[39m\u001b[38;5;124mRani\u001b[39m\u001b[38;5;124m\"\u001b[39m,\u001b[38;5;124m\"\u001b[39m\u001b[38;5;124mVaishanvi\u001b[39m\u001b[38;5;124m\"\u001b[39m],\n\u001b[0;32m      3\u001b[0m     \u001b[38;5;124m'\u001b[39m\u001b[38;5;124mscore\u001b[39m\u001b[38;5;124m'\u001b[39m: [\u001b[38;5;124m\"\u001b[39m\u001b[38;5;124m45\u001b[39m\u001b[38;5;124m\"\u001b[39m,\u001b[38;5;124m\"\u001b[39m\u001b[38;5;124m55,\u001b[39m\u001b[38;5;124m\"\u001b[39m,\u001b[38;5;124m\"\u001b[39m\u001b[38;5;124m59\u001b[39m\u001b[38;5;124m\"\u001b[39m,\u001b[38;5;124m\"\u001b[39m\u001b[38;5;124m57\u001b[39m\u001b[38;5;124m\"\u001b[39m,\u001b[38;5;124m\"\u001b[39m\u001b[38;5;124m58\u001b[39m\u001b[38;5;124m\"\u001b[39m],\n\u001b[0;32m      4\u001b[0m     \u001b[38;5;124m'\u001b[39m\u001b[38;5;124mRanks\u001b[39m\u001b[38;5;124m'\u001b[39m: [\u001b[38;5;124m\"\u001b[39m\u001b[38;5;124m5\u001b[39m\u001b[38;5;124m\"\u001b[39m,\u001b[38;5;124m\"\u001b[39m\u001b[38;5;124m4\u001b[39m\u001b[38;5;124m\"\u001b[39m,\u001b[38;5;124m\"\u001b[39m\u001b[38;5;124m1\u001b[39m\u001b[38;5;124m\"\u001b[39m,\u001b[38;5;124m\"\u001b[39m\u001b[38;5;124m3\u001b[39m\u001b[38;5;124m\"\u001b[39m,\u001b[38;5;124m\"\u001b[39m\u001b[38;5;124m2\u001b[39m\u001b[38;5;124m\"\u001b[39m],\n\u001b[0;32m      5\u001b[0m     \u001b[38;5;124m'\u001b[39m\u001b[38;5;124mGrade\u001b[39m\u001b[38;5;124m'\u001b[39m:[\u001b[38;5;124m\"\u001b[39m\u001b[38;5;124mE\u001b[39m\u001b[38;5;124m\"\u001b[39m,\u001b[38;5;124m\"\u001b[39m\u001b[38;5;124mD\u001b[39m\u001b[38;5;124m\"\u001b[39m,\u001b[38;5;124m\"\u001b[39m\u001b[38;5;124mA\u001b[39m\u001b[38;5;124m\"\u001b[39m,\u001b[38;5;124m\"\u001b[39m\u001b[38;5;124mC\u001b[39m\u001b[38;5;124m\"\u001b[39m,\u001b[38;5;124m\"\u001b[39m\u001b[38;5;124mB\u001b[39m\u001b[38;5;124m\"\u001b[39m] }\n\u001b[1;32m----> 7\u001b[0m res\u001b[38;5;241m=\u001b[39m pd\u001b[38;5;241m.\u001b[39mDataframe(data)\n\u001b[0;32m      9\u001b[0m \u001b[38;5;28mprint\u001b[39m(\u001b[38;5;124m\"\u001b[39m\u001b[38;5;124mName records\u001b[39m\u001b[38;5;130;01m\\n\u001b[39;00m\u001b[38;5;130;01m\\n\u001b[39;00m\u001b[38;5;124m\"\u001b[39m,res)\n",
      "\u001b[1;31mAttributeError\u001b[0m: module 'pandas' has no attribute 'Dataframe'"
     ]
    }
   ],
   "source": [
    "data={\n",
    "    'name':[ \"priya\",\"Riya\",\"Varsha\",\"Rani\",\"Vaishanvi\"],\n",
    "    'score': [\"45\",\"55,\",\"59\",\"57\",\"58\"],\n",
    "    'Ranks': [\"5\",\"4\",\"1\",\"3\",\"2\"],\n",
    "    'Grade':[\"E\",\"D\",\"A\",\"C\",\"B\"] }\n",
    "\n",
    "res= pd.Dataframe(data)\n",
    "\n",
    "print(\"Name records\\n\\n\",res)\n"
   ]
  },
  {
   "cell_type": "code",
   "execution_count": 23,
   "id": "6ea2636a",
   "metadata": {},
   "outputs": [],
   "source": [
    "import pandas as pd\n"
   ]
  },
  {
   "cell_type": "code",
   "execution_count": 27,
   "id": "7ca8f0eb",
   "metadata": {},
   "outputs": [
    {
     "name": "stdout",
     "output_type": "stream",
     "text": [
      "Name records\n",
      "\n",
      "         name score Ranks Grade\n",
      "0      priya    45     5     E\n",
      "1       Riya    55     4     D\n",
      "2     Varsha    59     1     A\n",
      "3       Rani    57     3     C\n",
      "4  Vaishanvi    58     2     B\n"
     ]
    }
   ],
   "source": [
    "data={\n",
    "    'name':[ \"priya\",\"Riya\",\"Varsha\",\"Rani\",\"Vaishanvi\"],\n",
    "    'score': [\"45\",\"55\",\"59\",\"57\",\"58\"],\n",
    "    'Ranks': [\"5\",\"4\",\"1\",\"3\",\"2\"],\n",
    "    'Grade':[\"E\",\"D\",\"A\",\"C\",\"B\"] }\n",
    "\n",
    "res= pd.DataFrame(data)\n",
    "\n",
    "print(\"Name records\\n\\n\",res)"
   ]
  },
  {
   "cell_type": "code",
   "execution_count": 29,
   "id": "3e4f84f8",
   "metadata": {},
   "outputs": [
    {
     "name": "stdout",
     "output_type": "stream",
     "text": [
      "Name records\n",
      "\n",
      "      name Age  Salary Native Place\n",
      "0   Akhil  27  45,000        Betul\n",
      "1  Nikhil  27  40,000       Nagpur\n",
      "2   Akash  27  65,000     Kolhapur\n",
      "3  Aniket  27  60,000         Reva\n",
      "4   Rahul  27  50,000        Satna\n"
     ]
    }
   ],
   "source": [
    "data = {\n",
    "    'name' : [\"Akhil\",\"Nikhil\",\"Akash\",\"Aniket\",\"Rahul\"],\n",
    "    'Age'  : [\"27\",\"27\",\"27\",\"27\",\"27\"],\n",
    "    'Salary': [\"45,000\",\"40,000\",\"65,000\",\"60,000\",\"50,000\"],\n",
    "    'Native Place' : [ \"Betul\",\"Nagpur\",\"Kolhapur\",\"Reva\",\"Satna\"]}\n",
    "\n",
    "res=pd.DataFrame(data)\n",
    "\n",
    "print(\"Name records\\n\\n\",res)"
   ]
  },
  {
   "cell_type": "code",
   "execution_count": null,
   "id": "9151d3b9",
   "metadata": {},
   "outputs": [],
   "source": [
    "import pandas as pd\n"
   ]
  },
  {
   "cell_type": "code",
   "execution_count": 8,
   "id": "d53cbc22",
   "metadata": {},
   "outputs": [
    {
     "name": "stdout",
     "output_type": "stream",
     "text": [
      "name records\n",
      "\n",
      "      name age fav Cartoon blood group Native place\n",
      "0   rahul  25     pokemon          A+       nagpur\n",
      "1   mayur  26     digimon          AB     kolhapur\n",
      "2  sanket  27       nijas          B+       morshi\n",
      "3  chirag  28       tiger          O+        latur\n",
      "4  Pratik  29    bayblade          O-        Katol\n"
     ]
    }
   ],
   "source": [
    "Data ={ \n",
    "       'name' : [\"rahul\",\"mayur\",\"sanket\",\"chirag\",\"Pratik\"],\n",
    "        'age' : [\"25\",\"26\",\"27\",\"28\",\"29\"],\n",
    " 'fav Cartoon': [\"pokemon\",\"digimon\",\"nijas\",\"tiger\",\"bayblade\"],\n",
    "'blood group' : [\"A+\",\"AB\",\"B+\",\"O+\",\"O-\"],\n",
    "'Native place': [ \"nagpur\",\"kolhapur\",\"morshi\",\"latur\",\"Katol\"] }\n",
    "    \n",
    "res = pd.DataFrame(Data)\n",
    "print(\"name records\\n\\n\",res)"
   ]
  },
  {
   "cell_type": "code",
   "execution_count": null,
   "id": "953af3ae",
   "metadata": {},
   "outputs": [],
   "source": []
  }
 ],
 "metadata": {
  "kernelspec": {
   "display_name": "Python 3 (ipykernel)",
   "language": "python",
   "name": "python3"
  },
  "language_info": {
   "codemirror_mode": {
    "name": "ipython",
    "version": 3
   },
   "file_extension": ".py",
   "mimetype": "text/x-python",
   "name": "python",
   "nbconvert_exporter": "python",
   "pygments_lexer": "ipython3",
   "version": "3.11.5"
  }
 },
 "nbformat": 4,
 "nbformat_minor": 5
}
